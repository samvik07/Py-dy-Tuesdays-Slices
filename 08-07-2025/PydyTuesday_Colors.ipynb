{
 "cells": [
  {
   "cell_type": "markdown",
   "id": "e1265970",
   "metadata": {},
   "source": [
    "# Pydy Tuesday 08-07-2025 - Color Survey Data"
   ]
  },
  {
   "cell_type": "markdown",
   "id": "e7f9051c",
   "metadata": {},
   "source": [
    "### 1. Import Libraries"
   ]
  },
  {
   "cell_type": "code",
   "execution_count": 1,
   "id": "49823473",
   "metadata": {},
   "outputs": [],
   "source": [
    "import sys\n",
    "import pydytuesday\n",
    "import pandas as pd\n",
    "\n",
    "# For Data Visualisation\n",
    "import matplotlib\n",
    "import matplotlib.pyplot as plt\n",
    "import seaborn as sns"
   ]
  },
  {
   "cell_type": "code",
   "execution_count": 2,
   "id": "2d369fe7",
   "metadata": {},
   "outputs": [
    {
     "name": "stdout",
     "output_type": "stream",
     "text": [
      "Python: 3.12.3 (tags/v3.12.3:f6650f9, Apr  9 2024, 14:05:25) [MSC v.1938 64 bit (AMD64)]\n",
      "pandas: 2.3.0\n",
      "matplotlib: 3.6.2\n",
      "seaborn: 0.13.2\n"
     ]
    }
   ],
   "source": [
    "print(\"Python:\", sys.version)\n",
    "print(\"pandas:\", pd.__version__)\n",
    "print(\"matplotlib:\", matplotlib.__version__)\n",
    "print(\"seaborn:\", sns.__version__)"
   ]
  },
  {
   "cell_type": "markdown",
   "id": "bda93d3c",
   "metadata": {},
   "source": [
    "### 2. Load Data from the official pydytuesday repo"
   ]
  },
  {
   "cell_type": "code",
   "execution_count": 3,
   "id": "5134567a",
   "metadata": {},
   "outputs": [
    {
     "name": "stdout",
     "output_type": "stream",
     "text": [
      "Trying to fetch README from: https://raw.githubusercontent.com/rfordatascience/tidytuesday/refs/heads/main/data/2025/2025-07-08/readme.md\n",
      "Successfully fetched README from: https://raw.githubusercontent.com/rfordatascience/tidytuesday/refs/heads/main/data/2025/2025-07-08/readme.md\n",
      "Downloading answers.csv...\n",
      "Successfully saved answers.csv to d:\\SAUVIK\\Projects\\Pydy_Tuesdays\\Pydy_08072025\\answers.csv\n",
      "Downloading color_ranks.csv...\n",
      "Successfully saved color_ranks.csv to d:\\SAUVIK\\Projects\\Pydy_Tuesdays\\Pydy_08072025\\color_ranks.csv\n",
      "Downloading meta.yaml...\n",
      "Successfully saved meta.yaml to d:\\SAUVIK\\Projects\\Pydy_Tuesdays\\Pydy_08072025\\meta.yaml\n",
      "Downloading users.csv...\n",
      "Successfully saved users.csv to d:\\SAUVIK\\Projects\\Pydy_Tuesdays\\Pydy_08072025\\users.csv\n",
      "Downloading xkcd-colors.png...\n",
      "Successfully saved xkcd-colors.png to d:\\SAUVIK\\Projects\\Pydy_Tuesdays\\Pydy_08072025\\xkcd-colors.png\n"
     ]
    }
   ],
   "source": [
    "# Use date to fetch the files for that week\n",
    "pydytuesday.get_date('2025-07-08')"
   ]
  },
  {
   "cell_type": "code",
   "execution_count": 4,
   "id": "c577523f",
   "metadata": {},
   "outputs": [
    {
     "name": "stdout",
     "output_type": "stream",
     "text": [
      " answers Info: \n",
      "\n",
      "<class 'pandas.core.frame.DataFrame'>\n",
      "RangeIndex: 1058211 entries, 0 to 1058210\n",
      "Data columns (total 3 columns):\n",
      " #   Column   Non-Null Count    Dtype \n",
      "---  ------   --------------    ----- \n",
      " 0   user_id  1058211 non-null  int64 \n",
      " 1   hex      1058211 non-null  object\n",
      " 2   rank     1058211 non-null  int64 \n",
      "dtypes: int64(2), object(1)\n",
      "memory usage: 24.2+ MB\n",
      "None\n",
      "\n",
      "------------------------------------------------------------\n",
      "\n",
      " color_ranks Info: \n",
      "\n",
      "<class 'pandas.core.frame.DataFrame'>\n",
      "RangeIndex: 949 entries, 0 to 948\n",
      "Data columns (total 3 columns):\n",
      " #   Column  Non-Null Count  Dtype \n",
      "---  ------  --------------  ----- \n",
      " 0   color   949 non-null    object\n",
      " 1   rank    949 non-null    int64 \n",
      " 2   hex     949 non-null    object\n",
      "dtypes: int64(1), object(2)\n",
      "memory usage: 22.4+ KB\n",
      "None\n",
      "\n",
      "------------------------------------------------------------\n",
      "\n",
      " users Info: \n",
      "\n",
      "<class 'pandas.core.frame.DataFrame'>\n",
      "RangeIndex: 152401 entries, 0 to 152400\n",
      "Data columns (total 5 columns):\n",
      " #   Column        Non-Null Count   Dtype  \n",
      "---  ------        --------------   -----  \n",
      " 0   user_id       152401 non-null  int64  \n",
      " 1   monitor       152401 non-null  object \n",
      " 2   y_chromosome  144894 non-null  float64\n",
      " 3   colorblind    142553 non-null  float64\n",
      " 4   spam_prob     152401 non-null  float64\n",
      "dtypes: float64(3), int64(1), object(1)\n",
      "memory usage: 5.8+ MB\n",
      "None\n",
      "\n",
      "------------------------------------------------------------\n",
      "\n"
     ]
    }
   ],
   "source": [
    "# Load datasets using Pandas \n",
    "answers = pd.read_csv('answers.csv')\n",
    "color_ranks = pd.read_csv('color_ranks.csv')\n",
    "users = pd.read_csv('users.csv')\n",
    "\n",
    "# Store all the files in a dictionary\n",
    "datafiles = {\n",
    "    \"answers\": answers,\n",
    "    \"color_ranks\": color_ranks,\n",
    "    \"users\": users,\n",
    "}\n",
    "\n",
    "# Print info for all the files\n",
    "for filename, df in datafiles.items():\n",
    "    print(f\" {filename} Info: \\n\")\n",
    "    print(df.info())\n",
    "    print(\"\\n\" + \"-\"*60 + \"\\n\")\n"
   ]
  },
  {
   "cell_type": "code",
   "execution_count": 8,
   "id": "3aaa0fe9",
   "metadata": {},
   "outputs": [
    {
     "name": "stdout",
     "output_type": "stream",
     "text": [
      "<class 'pandas.core.frame.DataFrame'>\n",
      "RangeIndex: 1058211 entries, 0 to 1058210\n",
      "Data columns (total 9 columns):\n",
      " #   Column         Non-Null Count    Dtype  \n",
      "---  ------         --------------    -----  \n",
      " 0   user_id        1058211 non-null  int64  \n",
      " 1   hex_original   1058211 non-null  object \n",
      " 2   rank           1058211 non-null  int64  \n",
      " 3   color          1058211 non-null  object \n",
      " 4   hex_perceived  1058211 non-null  object \n",
      " 5   monitor        1058211 non-null  object \n",
      " 6   y_chromosome   1030078 non-null  float64\n",
      " 7   colorblind     1011907 non-null  float64\n",
      " 8   spam_prob      1058211 non-null  float64\n",
      "dtypes: float64(3), int64(2), object(4)\n",
      "memory usage: 72.7+ MB\n",
      "None\n",
      "            user_id          rank  y_chromosome    colorblind     spam_prob\n",
      "count  1.058211e+06  1.058211e+06  1.030078e+06  1.011907e+06  1.058211e+06\n",
      "mean   7.726105e+04  2.499218e+00  6.829803e-01  5.096120e-02  1.259867e-01\n",
      "std    4.354808e+04  1.182559e+00  4.653154e-01  2.199186e-01  2.704004e-01\n",
      "min    1.000000e+00  1.000000e+00  0.000000e+00  0.000000e+00  7.416590e-05\n",
      "25%    3.938700e+04  2.000000e+00  0.000000e+00  0.000000e+00  3.713345e-02\n",
      "50%    7.766100e+04  2.000000e+00  1.000000e+00  0.000000e+00  9.042199e-02\n",
      "75%    1.150680e+05  3.000000e+00  1.000000e+00  0.000000e+00  1.634402e-01\n",
      "max    1.524010e+05  5.000000e+00  1.000000e+00  1.000000e+00  8.428621e+00\n"
     ]
    }
   ],
   "source": [
    "# Rename 'hex' fields to clarify meaning\n",
    "answers = answers.rename(columns={\"hex\": \"hex_original\"})\n",
    "color_ranks = color_ranks.rename(columns={\"hex\": \"hex_perceived\"})\n",
    "\n",
    "# Merge\n",
    "merged_df = pd.merge(answers, color_ranks, on=\"rank\", how=\"left\")\n",
    "final_df = pd.merge(merged_df, users, on=\"user_id\", how=\"left\")\n",
    "\n",
    "pd.set_option('display.width', 1000)\n",
    "print(final_df.info())\n",
    "print(final_df.describe())\n"
   ]
  },
  {
   "cell_type": "code",
   "execution_count": 9,
   "id": "569caf00",
   "metadata": {},
   "outputs": [
    {
     "name": "stdout",
     "output_type": "stream",
     "text": [
      "   user_id hex_original  rank   color hex_perceived monitor  y_chromosome  colorblind  spam_prob\n",
      "0        1      #8240EA     1  purple       #7e1e9c     LCD           1.0         0.0   0.002088\n",
      "1        2      #4B31EA     3    blue       #0343df     LCD           1.0         0.0   0.074577\n",
      "2        2      #584601     5   brown       #653700     LCD           1.0         0.0   0.074577\n",
      "3        2      #DA239C     4    pink       #ff81c0     LCD           1.0         0.0   0.074577\n",
      "4        2      #B343E5     1  purple       #7e1e9c     LCD           1.0         0.0   0.074577\n"
     ]
    }
   ],
   "source": [
    "print(final_df.head())"
   ]
  },
  {
   "cell_type": "code",
   "execution_count": 11,
   "id": "884d1bb3",
   "metadata": {},
   "outputs": [
    {
     "name": "stdout",
     "output_type": "stream",
     "text": [
      "user_id              0\n",
      "hex_original         0\n",
      "rank                 0\n",
      "color                0\n",
      "hex_perceived        0\n",
      "monitor              0\n",
      "y_chromosome     28133\n",
      "colorblind       46304\n",
      "spam_prob            0\n",
      "dtype: int64\n"
     ]
    }
   ],
   "source": [
    "print(final_df.isnull().sum())"
   ]
  },
  {
   "cell_type": "code",
   "execution_count": 14,
   "id": "191882aa",
   "metadata": {},
   "outputs": [
    {
     "name": "stdout",
     "output_type": "stream",
     "text": [
      "<class 'pandas.core.frame.DataFrame'>\n",
      "Index: 1001293 entries, 0 to 1058210\n",
      "Data columns (total 9 columns):\n",
      " #   Column         Non-Null Count    Dtype  \n",
      "---  ------         --------------    -----  \n",
      " 0   user_id        1001293 non-null  int64  \n",
      " 1   hex_original   1001293 non-null  object \n",
      " 2   rank           1001293 non-null  int64  \n",
      " 3   color          1001293 non-null  object \n",
      " 4   hex_perceived  1001293 non-null  object \n",
      " 5   monitor        1001293 non-null  object \n",
      " 6   y_chromosome   1001293 non-null  float64\n",
      " 7   colorblind     1001293 non-null  float64\n",
      " 8   spam_prob      1001293 non-null  float64\n",
      "dtypes: float64(3), int64(2), object(4)\n",
      "memory usage: 76.4+ MB\n",
      "None\n"
     ]
    }
   ],
   "source": [
    "df = final_df.dropna()\n",
    "print(df.info())"
   ]
  },
  {
   "cell_type": "code",
   "execution_count": null,
   "id": "d740df6c",
   "metadata": {},
   "outputs": [
    {
     "name": "stdout",
     "output_type": "stream",
     "text": [
      "Rank: [1 3 5 4 2]\n",
      "Monitors: ['LCD' 'CRT' 'monitor-other']\n"
     ]
    }
   ],
   "source": [
    "print(\"Rank:\",df['rank'].unique())\n",
    "print(\"Monitors:\",df['monitor'].unique())\n",
    "print()"
   ]
  }
 ],
 "metadata": {
  "kernelspec": {
   "display_name": "Python 3",
   "language": "python",
   "name": "python3"
  },
  "language_info": {
   "codemirror_mode": {
    "name": "ipython",
    "version": 3
   },
   "file_extension": ".py",
   "mimetype": "text/x-python",
   "name": "python",
   "nbconvert_exporter": "python",
   "pygments_lexer": "ipython3",
   "version": "3.12.3"
  }
 },
 "nbformat": 4,
 "nbformat_minor": 5
}
