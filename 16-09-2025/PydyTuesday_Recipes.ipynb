{
 "cells": [
  {
   "cell_type": "markdown",
   "id": "29c834cc",
   "metadata": {},
   "source": [
    "# Pydy Tuesday 16-09-2025 - All Recipes"
   ]
  },
  {
   "cell_type": "markdown",
   "id": "4cda6834",
   "metadata": {},
   "source": [
    "### 1. Import Libraries"
   ]
  },
  {
   "cell_type": "code",
   "execution_count": 225,
   "id": "ca99fe19",
   "metadata": {},
   "outputs": [],
   "source": [
    "import sys\n",
    "import pydytuesday\n",
    "import pandas as pd\n",
    "\n",
    "# For Data Visualisation\n",
    "import matplotlib\n",
    "import matplotlib.pyplot as plt\n",
    "import plotly\n",
    "import plotly.express as px"
   ]
  },
  {
   "cell_type": "code",
   "execution_count": 226,
   "id": "6fdacabe",
   "metadata": {},
   "outputs": [
    {
     "name": "stdout",
     "output_type": "stream",
     "text": [
      "Python: 3.12.3 (tags/v3.12.3:f6650f9, Apr  9 2024, 14:05:25) [MSC v.1938 64 bit (AMD64)]\n",
      "pandas: 2.3.0\n",
      "matplotlib: 3.6.2\n",
      "plotly: 6.1.2\n"
     ]
    }
   ],
   "source": [
    "print(\"Python:\", sys.version)\n",
    "print(\"pandas:\", pd.__version__)\n",
    "print(\"matplotlib:\", matplotlib.__version__)\n",
    "print(\"plotly:\", plotly.__version__)"
   ]
  },
  {
   "cell_type": "markdown",
   "id": "db49f964",
   "metadata": {},
   "source": [
    "### 2.a. Load Data from the official pydytuesday repo"
   ]
  },
  {
   "cell_type": "code",
   "execution_count": 227,
   "id": "63063491",
   "metadata": {},
   "outputs": [
    {
     "name": "stdout",
     "output_type": "stream",
     "text": [
      "Trying to fetch README from: https://raw.githubusercontent.com/rfordatascience/tidytuesday/refs/heads/main/data/2025/2025-09-16/readme.md\n",
      "Successfully fetched README from: https://raw.githubusercontent.com/rfordatascience/tidytuesday/refs/heads/main/data/2025/2025-09-16/readme.md\n",
      "Downloading all_recipes.csv...\n",
      "Error downloading files: [Errno 13] Permission denied: 'all_recipes.csv'\n"
     ]
    }
   ],
   "source": [
    "# Use date to fetch the files for that week\n",
    "pydytuesday.get_date('2025-09-16')"
   ]
  },
  {
   "cell_type": "markdown",
   "id": "c653c9f6",
   "metadata": {},
   "source": [
    "### 2.b. Load data into dataframe using Pandas and do initial exploration"
   ]
  },
  {
   "cell_type": "code",
   "execution_count": 228,
   "id": "69327118",
   "metadata": {},
   "outputs": [],
   "source": [
    "# Load datasets using Pandas \n",
    "recipes = pd.read_csv('all_recipes.csv')\n",
    "cuisines = pd.read_csv('cuisines.csv')\n"
   ]
  },
  {
   "cell_type": "code",
   "execution_count": null,
   "id": "3c3e29f9",
   "metadata": {},
   "outputs": [
    {
     "name": "stdout",
     "output_type": "stream",
     "text": [
      "<class 'pandas.core.frame.DataFrame'>\n",
      "RangeIndex: 14426 entries, 0 to 14425\n",
      "Data columns (total 16 columns):\n",
      " #   Column          Non-Null Count  Dtype  \n",
      "---  ------          --------------  -----  \n",
      " 0   name            14426 non-null  object \n",
      " 1   url             14426 non-null  object \n",
      " 2   author          14426 non-null  object \n",
      " 3   date_published  14426 non-null  object \n",
      " 4   ingredients     14417 non-null  object \n",
      " 5   calories        14226 non-null  float64\n",
      " 6   fat             14070 non-null  float64\n",
      " 7   carbs           14212 non-null  float64\n",
      " 8   protein         14178 non-null  float64\n",
      " 9   avg_rating      13454 non-null  float64\n",
      " 10  total_ratings   13454 non-null  float64\n",
      " 11  reviews         13353 non-null  float64\n",
      " 12  prep_time       14426 non-null  int64  \n",
      " 13  cook_time       14426 non-null  int64  \n",
      " 14  total_time      14426 non-null  int64  \n",
      " 15  servings        14405 non-null  float64\n",
      "dtypes: float64(8), int64(3), object(5)\n",
      "memory usage: 1.8+ MB\n"
     ]
    }
   ],
   "source": [
    "# See info for recipes df\n",
    "recipes.info()"
   ]
  },
  {
   "cell_type": "code",
   "execution_count": null,
   "id": "130418c8",
   "metadata": {},
   "outputs": [
    {
     "name": "stdout",
     "output_type": "stream",
     "text": [
      "<class 'pandas.core.frame.DataFrame'>\n",
      "RangeIndex: 2218 entries, 0 to 2217\n",
      "Data columns (total 17 columns):\n",
      " #   Column          Non-Null Count  Dtype  \n",
      "---  ------          --------------  -----  \n",
      " 0   name            2218 non-null   object \n",
      " 1   country         2218 non-null   object \n",
      " 2   url             2218 non-null   object \n",
      " 3   author          2218 non-null   object \n",
      " 4   date_published  2218 non-null   object \n",
      " 5   ingredients     2217 non-null   object \n",
      " 6   calories        2186 non-null   float64\n",
      " 7   fat             2163 non-null   float64\n",
      " 8   carbs           2183 non-null   float64\n",
      " 9   protein         2179 non-null   float64\n",
      " 10  avg_rating      2121 non-null   float64\n",
      " 11  total_ratings   2121 non-null   float64\n",
      " 12  reviews         2110 non-null   float64\n",
      " 13  prep_time       2218 non-null   int64  \n",
      " 14  cook_time       2218 non-null   int64  \n",
      " 15  total_time      2218 non-null   int64  \n",
      " 16  servings        2216 non-null   float64\n",
      "dtypes: float64(8), int64(3), object(6)\n",
      "memory usage: 294.7+ KB\n"
     ]
    }
   ],
   "source": [
    "# See info for cuisines df\n",
    "cuisines.info()"
   ]
  },
  {
   "cell_type": "code",
   "execution_count": 242,
   "id": "3e335a78",
   "metadata": {},
   "outputs": [
    {
     "name": "stdout",
     "output_type": "stream",
     "text": [
      "All Recipes : \n",
      "            calories           fat         carbs       protein    avg_rating  total_ratings       reviews     prep_time     cook_time    total_time      servings\n",
      "count  14226.000000  14070.000000  14212.000000  14178.000000  13454.000000   13454.000000  13353.000000  14426.000000  14426.000000  14426.000000  14405.000000\n",
      "mean     344.878532     17.835537     32.863425     14.422344      4.525606     102.620262     94.418483     17.345002     42.515943    144.065645     11.028393\n",
      "std      250.020621     16.679835     27.590609     17.528592      0.409127     172.979317    164.522217     24.872135     96.819185    874.250121     13.026444\n",
      "min        1.000000      0.000000      0.000000      0.000000      1.000000       1.000000      1.000000      0.000000      0.000000      0.000000      1.000000\n",
      "25%      181.000000      7.000000     14.000000      3.000000      4.400000       5.000000      5.000000     10.000000     10.000000     30.000000      4.000000\n",
      "50%      307.000000     14.000000     29.000000      8.000000      4.600000      26.000000     24.000000     15.000000     20.000000     55.000000      8.000000\n",
      "75%      453.000000     24.000000     45.000000     22.000000      4.800000     112.000000    100.000000     20.000000     45.000000    100.000000     12.000000\n",
      "max     9538.000000    612.000000    746.000000    939.000000      5.000000     997.000000    999.000000   2160.000000   4325.000000  60485.000000    300.000000\n",
      "\n",
      " ---------------------------------------------------------------------------------------------------- \n",
      "\n",
      "Cuisines: \n",
      "           calories          fat        carbs      protein   avg_rating  total_ratings      reviews    prep_time    cook_time    total_time     servings\n",
      "count  2186.000000  2163.000000  2183.000000  2179.000000  2121.000000    2121.000000  2110.000000  2218.000000  2218.000000   2218.000000  2216.000000\n",
      "mean    358.413083    18.755895    31.955108    16.605782     4.509335      85.245167    76.933175    21.497746    41.750225    170.984671    10.476534\n",
      "std     240.042513    16.962372    26.062039    16.301233     0.401175     148.243172   142.070121    60.721896    63.184124    641.734945    13.423116\n",
      "min       3.000000     0.000000     1.000000     0.000000     1.000000       1.000000     1.000000     0.000000     0.000000      0.000000     1.000000\n",
      "25%     190.000000     7.000000    13.000000     4.000000     4.300000       6.000000     6.000000    10.000000    10.000000     35.000000     4.000000\n",
      "50%     319.500000    15.000000    26.000000    11.000000     4.600000      24.000000    21.000000    15.000000    25.000000     60.000000     8.000000\n",
      "75%     477.000000    26.000000    45.000000    25.000000     4.800000      87.000000    74.000000    25.000000    45.000000    120.000000    12.000000\n",
      "max    2266.000000   225.000000   264.000000   159.000000     5.000000     997.000000   975.000000  1800.000000   600.000000  14440.000000   240.000000\n"
     ]
    }
   ],
   "source": [
    "# Set option to view data in single line\n",
    "pd.set_option('display.width', 1000)\n",
    "\n",
    "# See statistical info of numeric features\n",
    "print(\"All Recipes : \\n\", recipes.describe())\n",
    "\n",
    "print(f\"\\n { '-' * 100} \\n\")\n",
    "\n",
    "print(\"Cuisines: \\n\", cuisines.describe())"
   ]
  },
  {
   "cell_type": "code",
   "execution_count": 232,
   "id": "fdcbf6cd",
   "metadata": {},
   "outputs": [
    {
     "name": "stdout",
     "output_type": "stream",
     "text": [
      "\n",
      " Recipes Data sample rows:\n",
      "                                        name                                                url         author date_published                                        ingredients  calories   fat  carbs  protein  avg_rating  total_ratings  reviews  prep_time  cook_time  total_time  servings\n",
      "0  Chewy Whole Wheat Peanut Butter Brownies  https://www.allrecipes.com/recipe/140717/chewy...         DMOMMY     2020-06-18  ⅓ cup margarine, softened, ⅔ cup white sugar, ...     222.0  13.0   24.0      6.0         4.4           47.0     36.0         20         35          55      16.0\n",
      "1                        Pumpkin Pie Eggnog  https://www.allrecipes.com/recipe/269204/pumpk...   Bobbie Susan     2022-09-26  12  egg yolks, 2 cups heavy whipping cream, ½ ...     477.0  31.0   43.0      8.0         5.0            1.0      1.0         10          5         495       8.0\n",
      "2              Eggs Poached in Tomato Sauce  https://www.allrecipes.com/recipe/238054/eggs-...           Bren     2018-06-08  2 tablespoons olive oil, or to taste, ½  onion...     354.0  18.0   32.0     20.0         4.8            4.0      4.0         10         75          85       4.0\n",
      "3                      Minestrone Casserole  https://www.allrecipes.com/minestrone-casserol...   Sarah Brekke     2025-03-03  4 cups dried mafalda pasta (mini lasagna noodl...     356.0   9.0   53.0     19.0         4.3           14.0     13.0         20         40          60       8.0\n",
      "4                     Yummy Stuffed Peppers  https://www.allrecipes.com/recipe/241937/yummy...  Procrastigirl     2024-12-11  4 green bell peppers, halved lengthwise and se...     366.0  22.0   23.0     19.0         4.7           84.0     67.0         30         95         125       8.0\n",
      "\n",
      " ---------------------------------------------------------------------------------------------------- \n",
      "\n",
      "Cuisines sample rows: \n",
      "                               name                       country                                                url          author date_published                                        ingredients  calories   fat  carbs  protein  avg_rating  total_ratings  reviews  prep_time  cook_time  total_time  servings\n",
      "0  Saganaki (Flaming Greek Cheese)                         Greek  https://www.allrecipes.com/recipe/263750/flami...  John Mitzewich     2024-02-07  1 (4 ounce) package kasseri cheese, 1 tablespo...     391.0  25.0   15.0     16.0         4.8           25.0     22.0         10          5          15       2.0\n",
      "1             Coney Island Knishes                        Jewish  https://www.allrecipes.com/recipe/272334/coney...  John Mitzewich     2024-11-26  2 ¾ cups all-purpose flour, or more as needed,...     301.0  17.0   31.0      7.0         4.6           10.0      9.0         30         75         180      16.0\n",
      "2     Diana's Hawaiian Bread Rolls  Australian and New Zealander  https://www.allrecipes.com/recipe/22797/dianas...     CHIPPENDALE     2022-07-14  1 ½ cups warm water (110 degrees F/45 degrees ...      64.0   3.0    9.0      1.0         4.3          126.0    104.0         20         15         180      12.0\n",
      "3                    Chilean Pebre                       Chilean  https://www.allrecipes.com/recipe/273763/chile...           Heidi     2025-01-31  ½ cup chopped cilantro, ¼ cup olive oil, ¼ cup...     106.0   9.0    7.0      1.0         5.0            1.0      1.0         10          0          10       6.0\n",
      "4               Tex-Mex Sheet Cake                       Tex-Mex  https://www.allrecipes.com/recipe/22388/tex-me...             Ann     2025-02-18  2 cups all-purpose flour, 1 ½ cups brown sugar...     449.0  23.0   58.0      7.0         3.8           13.0     11.0         30         15          45      15.0\n"
     ]
    }
   ],
   "source": [
    "# See data samples\n",
    "print(\"\\n Recipes Data sample rows:\\n\", recipes.head())\n",
    "\n",
    "print(f\"\\n { '-' * 100} \\n\")\n",
    "\n",
    "print(\"Cuisines sample rows: \\n\", cuisines.head())\n"
   ]
  },
  {
   "cell_type": "markdown",
   "id": "33b169f9",
   "metadata": {},
   "source": [
    "Observation: 'cuisines' df is a subset of 'recipes' df, with an additional column 'country' mapping the recipes to a country or region."
   ]
  },
  {
   "cell_type": "code",
   "execution_count": 233,
   "id": "1b918e9b",
   "metadata": {},
   "outputs": [
    {
     "data": {
      "text/plain": [
       "name                 0\n",
       "url                  0\n",
       "author               0\n",
       "date_published       0\n",
       "ingredients          9\n",
       "calories           200\n",
       "fat                356\n",
       "carbs              214\n",
       "protein            248\n",
       "avg_rating         972\n",
       "total_ratings      972\n",
       "reviews           1073\n",
       "prep_time            0\n",
       "cook_time            0\n",
       "total_time           0\n",
       "servings            21\n",
       "dtype: int64"
      ]
     },
     "execution_count": 233,
     "metadata": {},
     "output_type": "execute_result"
    }
   ],
   "source": [
    "# Check for nulls in  df\n",
    "recipes.isnull().sum()"
   ]
  },
  {
   "cell_type": "code",
   "execution_count": 234,
   "id": "4fbd5430",
   "metadata": {},
   "outputs": [
    {
     "data": {
      "text/plain": [
       "name                0\n",
       "country             0\n",
       "url                 0\n",
       "author              0\n",
       "date_published      0\n",
       "ingredients         1\n",
       "calories           32\n",
       "fat                55\n",
       "carbs              35\n",
       "protein            39\n",
       "avg_rating         97\n",
       "total_ratings      97\n",
       "reviews           108\n",
       "prep_time           0\n",
       "cook_time           0\n",
       "total_time          0\n",
       "servings            2\n",
       "dtype: int64"
      ]
     },
     "execution_count": 234,
     "metadata": {},
     "output_type": "execute_result"
    }
   ],
   "source": [
    "cuisines.isnull().sum()"
   ]
  },
  {
   "cell_type": "code",
   "execution_count": 245,
   "id": "03178f54",
   "metadata": {},
   "outputs": [
    {
     "name": "stdout",
     "output_type": "stream",
     "text": [
      "No. of unique countries/regions mapped to recipes as cuisines:  49\n"
     ]
    }
   ],
   "source": [
    "# Check how many unique countries/regions are available in the 'cuisines' df.\n",
    "print(\"No. of unique countries/regions mapped to recipes as cuisines: \", cuisines['country'].nunique())"
   ]
  },
  {
   "cell_type": "markdown",
   "id": "9c90df31",
   "metadata": {},
   "source": [
    "### 3. Exploratory Data Analysis"
   ]
  },
  {
   "cell_type": "markdown",
   "id": "75324c91",
   "metadata": {},
   "source": [
    "#### 3.1 See distribution of the numeric fields "
   ]
  },
  {
   "cell_type": "code",
   "execution_count": null,
   "id": "e2d8a2a8",
   "metadata": {},
   "outputs": [
    {
     "data": {
      "image/png": "[encoded data removed]",
      "text/plain": [
       "<Figure size 1500x1000 with 12 Axes>"
      ]
     },
     "metadata": {},
     "output_type": "display_data"
    }
   ],
   "source": [
    "# Histogram plots for numeric fields \n",
    "recipes.hist(figsize=(15,10), bins=50)\n",
    "plt.show()"
   ]
  },
  {
   "cell_type": "markdown",
   "id": "b38b8309",
   "metadata": {},
   "source": [
    "#### 3.2 See some top cuisines"
   ]
  },
  {
   "cell_type": "code",
   "execution_count": null,
   "id": "1605afad",
   "metadata": {},
   "outputs": [
    {
     "name": "stdout",
     "output_type": "stream",
     "text": [
      "name              5\n",
      "country           5\n",
      "url               5\n",
      "author            5\n",
      "date_published    5\n",
      "ingredients       5\n",
      "calories          4\n",
      "fat               4\n",
      "carbs             4\n",
      "protein           4\n",
      "avg_rating        4\n",
      "total_ratings     5\n",
      "reviews           5\n",
      "prep_time         3\n",
      "cook_time         4\n",
      "total_time        5\n",
      "servings          3\n",
      "dtype: int64\n"
     ]
    },
    {
     "data": {
      "application/vnd.plotly.v1+json": {
       "config": {
        "plotlyServerURL": "https://plot.ly"
       },
       "data": [
        {
         "branchvalues": "total",
         "customdata": [
          [
           "sakuraiiko",
           4.7,
           926,
           "297.0"
          ],
          [
           "Lisa",
           4.6,
           964,
           "nan"
          ],
          [
           "BETTYCOOK",
           4.8,
           984,
           "710.0"
          ],
          [
           "chellebelle",
           4.5,
           985,
           "163.0"
          ],
          [
           "parothstein",
           4.8,
           997,
           "314.0"
          ],
          [
           "sakuraiiko",
           4.7,
           926,
           "297.0"
          ],
          [
           "Lisa",
           4.6,
           964,
           "nan"
          ],
          [
           "BETTYCOOK",
           4.8,
           984,
           "710.0"
          ],
          [
           "chellebelle",
           4.5,
           985,
           "163.0"
          ],
          [
           "parothstein",
           4.8,
           997,
           "314.0"
          ]
         ],
         "domain": {
          "x": [
           0,
           1
          ],
          "y": [
           0,
           1
          ]
         },
         "hovertemplate": "labels=%{label}<br>total_ratings=%{customdata[2]}<br>parent=%{parent}<br>id=%{id}<br>author=%{customdata[0]}<br>avg_rating=%{color}<br>calories=%{customdata[3]}<extra></extra>",
         "ids": [
          "Japanese/Chicken Katsu",
          "Spanish/Classic Spanish Sangria",
          "Canadian/Boneless Buffalo Wings",
          "French/Blender Hollandaise Sauce",
          "Amish and Mennonite/Cheesy Amish Breakfast Casserole",
          "Japanese",
          "Spanish",
          "Canadian",
          "French",
          "Amish and Mennonite"
         ],
         "labels": [
          "Chicken Katsu",
          "Classic Spanish Sangria",
          "Boneless Buffalo Wings",
          "Blender Hollandaise Sauce",
          "Cheesy Amish Breakfast Casserole",
          "Japanese",
          "Spanish",
          "Canadian",
          "French",
          "Amish and Mennonite"
         ],
         "marker": {
          "coloraxis": "coloraxis",
          "colors": {
           "bdata": "zczMzMzMEkBmZmZmZmYSQDMzMzMzMxNAAAAAAAAAEkAzMzMzMzMTQM3MzMzMzBJAZmZmZmZmEkAzMzMzMzMTQAAAAAAAABJAMzMzMzMzE0A=",
           "dtype": "f8"
          },
          "line": {
           "color": "gray"
          }
         },
         "name": "",
         "parents": [
          "Japanese",
          "Spanish",
          "Canadian",
          "French",
          "Amish and Mennonite",
          "",
          "",
          "",
          "",
          ""
         ],
         "textfont": {
          "size": 14
         },
         "type": "sunburst",
         "values": {
          "bdata": "AAAAAADwjEAAAAAAACCOQAAAAAAAwI5AAAAAAADIjkAAAAAAACiPQAAAAAAA8IxAAAAAAAAgjkAAAAAAAMCOQAAAAAAAyI5AAAAAAAAoj0A=",
          "dtype": "f8"
         }
        }
       ],
       "layout": {
        "annotations": [
         {
          "font": {
           "color": "gray",
           "family": "Arial",
           "size": 12
          },
          "showarrow": false,
          "text": "Data Source: 'www.allrecipes.com', brought by TidyTuesday 16-09-2025",
          "x": 0.5,
          "xref": "paper",
          "y": -0.1,
          "yref": "paper"
         }
        ],
        "coloraxis": {
         "colorbar": {
          "title": {
           "text": "avg_rating"
          }
         },
         "colorscale": [
          [
           0,
           "rgb(255,255,204)"
          ],
          [
           0.125,
           "rgb(255,237,160)"
          ],
          [
           0.25,
           "rgb(254,217,118)"
          ],
          [
           0.375,
           "rgb(254,178,76)"
          ],
          [
           0.5,
           "rgb(253,141,60)"
          ],
          [
           0.625,
           "rgb(252,78,42)"
          ],
          [
           0.75,
           "rgb(227,26,28)"
          ],
          [
           0.875,
           "rgb(189,0,38)"
          ],
          [
           1,
           "rgb(128,0,38)"
          ]
         ]
        },
        "height": 500,
        "legend": {
         "tracegroupgap": 0
        },
        "margin": {
         "b": 50,
         "l": 0,
         "r": 0,
         "t": 50
        },
        "template": {
         "data": {
          "bar": [
           {
            "error_x": {
             "color": "#2a3f5f"
            },
            "error_y": {
             "color": "#2a3f5f"
            },
            "marker": {
             "line": {
              "color": "#E5ECF6",
              "width": 0.5
             },
             "pattern": {
              "fillmode": "overlay",
              "size": 10,
              "solidity": 0.2
             }
            },
            "type": "bar"
           }
          ],
          "barpolar": [
           {
            "marker": {
             "line": {
              "color": "#E5ECF6",
              "width": 0.5
             },
             "pattern": {
              "fillmode": "overlay",
              "size": 10,
              "solidity": 0.2
             }
            },
            "type": "barpolar"
           }
          ],
          "carpet": [
           {
            "aaxis": {
             "endlinecolor": "#2a3f5f",
             "gridcolor": "white",
             "linecolor": "white",
             "minorgridcolor": "white",
             "startlinecolor": "#2a3f5f"
            },
            "baxis": {
             "endlinecolor": "#2a3f5f",
             "gridcolor": "white",
             "linecolor": "white",
             "minorgridcolor": "white",
             "startlinecolor": "#2a3f5f"
            },
            "type": "carpet"
           }
          ],
          "choropleth": [
           {
            "colorbar": {
             "outlinewidth": 0,
             "ticks": ""
            },
            "type": "choropleth"
           }
          ],
          "contour": [
           {
            "colorbar": {
             "outlinewidth": 0,
             "ticks": ""
            },
            "colorscale": [
             [
              0,
              "#0d0887"
             ],
             [
              0.1111111111111111,
              "#46039f"
             ],
             [
              0.2222222222222222,
              "#7201a8"
             ],
             [
              0.3333333333333333,
              "#9c179e"
             ],
             [
              0.4444444444444444,
              "#bd3786"
             ],
             [
              0.5555555555555556,
              "#d8576b"
             ],
             [
              0.6666666666666666,
              "#ed7953"
             ],
             [
              0.7777777777777778,
              "#fb9f3a"
             ],
             [
              0.8888888888888888,
              "#fdca26"
             ],
             [
              1,
              "#f0f921"
             ]
            ],
            "type": "contour"
           }
          ],
          "contourcarpet": [
           {
            "colorbar": {
             "outlinewidth": 0,
             "ticks": ""
            },
            "type": "contourcarpet"
           }
          ],
          "heatmap": [
           {
            "colorbar": {
             "outlinewidth": 0,
             "ticks": ""
            },
            "colorscale": [
             [
              0,
              "#0d0887"
             ],
             [
              0.1111111111111111,
              "#46039f"
             ],
             [
              0.2222222222222222,
              "#7201a8"
             ],
             [
              0.3333333333333333,
              "#9c179e"
             ],
             [
              0.4444444444444444,
              "#bd3786"
             ],
             [
              0.5555555555555556,
              "#d8576b"
             ],
             [
              0.6666666666666666,
              "#ed7953"
             ],
             [
              0.7777777777777778,
              "#fb9f3a"
             ],
             [
              0.8888888888888888,
              "#fdca26"
             ],
             [
              1,
              "#f0f921"
             ]
            ],
            "type": "heatmap"
           }
          ],
          "histogram": [
           {
            "marker": {
             "pattern": {
              "fillmode": "overlay",
              "size": 10,
              "solidity": 0.2
             }
            },
            "type": "histogram"
           }
          ],
          "histogram2d": [
           {
            "colorbar": {
             "outlinewidth": 0,
             "ticks": ""
            },
            "colorscale": [
             [
              0,
              "#0d0887"
             ],
             [
              0.1111111111111111,
              "#46039f"
             ],
             [
              0.2222222222222222,
              "#7201a8"
             ],
             [
              0.3333333333333333,
              "#9c179e"
             ],
             [
              0.4444444444444444,
              "#bd3786"
             ],
             [
              0.5555555555555556,
              "#d8576b"
             ],
             [
              0.6666666666666666,
              "#ed7953"
             ],
             [
              0.7777777777777778,
              "#fb9f3a"
             ],
             [
              0.8888888888888888,
              "#fdca26"
             ],
             [
              1,
              "#f0f921"
             ]
            ],
            "type": "histogram2d"
           }
          ],
          "histogram2dcontour": [
           {
            "colorbar": {
             "outlinewidth": 0,
             "ticks": ""
            },
            "colorscale": [
             [
              0,
              "#0d0887"
             ],
             [
              0.1111111111111111,
              "#46039f"
             ],
             [
              0.2222222222222222,
              "#7201a8"
             ],
             [
              0.3333333333333333,
              "#9c179e"
             ],
             [
              0.4444444444444444,
              "#bd3786"
             ],
             [
              0.5555555555555556,
              "#d8576b"
             ],
             [
              0.6666666666666666,
              "#ed7953"
             ],
             [
              0.7777777777777778,
              "#fb9f3a"
             ],
             [
              0.8888888888888888,
              "#fdca26"
             ],
             [
              1,
              "#f0f921"
             ]
            ],
            "type": "histogram2dcontour"
           }
          ],
          "mesh3d": [
           {
            "colorbar": {
             "outlinewidth": 0,
             "ticks": ""
            },
            "type": "mesh3d"
           }
          ],
          "parcoords": [
           {
            "line": {
             "colorbar": {
              "outlinewidth": 0,
              "ticks": ""
             }
            },
            "type": "parcoords"
           }
          ],
          "pie": [
           {
            "automargin": true,
            "type": "pie"
           }
          ],
          "scatter": [
           {
            "fillpattern": {
             "fillmode": "overlay",
             "size": 10,
             "solidity": 0.2
            },
            "type": "scatter"
           }
          ],
          "scatter3d": [
           {
            "line": {
             "colorbar": {
              "outlinewidth": 0,
              "ticks": ""
             }
            },
            "marker": {
             "colorbar": {
              "outlinewidth": 0,
              "ticks": ""
             }
            },
            "type": "scatter3d"
           }
          ],
          "scattercarpet": [
           {
            "marker": {
             "colorbar": {
              "outlinewidth": 0,
              "ticks": ""
             }
            },
            "type": "scattercarpet"
           }
          ],
          "scattergeo": [
           {
            "marker": {
             "colorbar": {
              "outlinewidth": 0,
              "ticks": ""
             }
            },
            "type": "scattergeo"
           }
          ],
          "scattergl": [
           {
            "marker": {
             "colorbar": {
              "outlinewidth": 0,
              "ticks": ""
             }
            },
            "type": "scattergl"
           }
          ],
          "scattermap": [
           {
            "marker": {
             "colorbar": {
              "outlinewidth": 0,
              "ticks": ""
             }
            },
            "type": "scattermap"
           }
          ],
          "scattermapbox": [
           {
            "marker": {
             "colorbar": {
              "outlinewidth": 0,
              "ticks": ""
             }
            },
            "type": "scattermapbox"
           }
          ],
          "scatterpolar": [
           {
            "marker": {
             "colorbar": {
              "outlinewidth": 0,
              "ticks": ""
             }
            },
            "type": "scatterpolar"
           }
          ],
          "scatterpolargl": [
           {
            "marker": {
             "colorbar": {
              "outlinewidth": 0,
              "ticks": ""
             }
            },
            "type": "scatterpolargl"
           }
          ],
          "scatterternary": [
           {
            "marker": {
             "colorbar": {
              "outlinewidth": 0,
              "ticks": ""
             }
            },
            "type": "scatterternary"
           }
          ],
          "surface": [
           {
            "colorbar": {
             "outlinewidth": 0,
             "ticks": ""
            },
            "colorscale": [
             [
              0,
              "#0d0887"
             ],
             [
              0.1111111111111111,
              "#46039f"
             ],
             [
              0.2222222222222222,
              "#7201a8"
             ],
             [
              0.3333333333333333,
              "#9c179e"
             ],
             [
              0.4444444444444444,
              "#bd3786"
             ],
             [
              0.5555555555555556,
              "#d8576b"
             ],
             [
              0.6666666666666666,
              "#ed7953"
             ],
             [
              0.7777777777777778,
              "#fb9f3a"
             ],
             [
              0.8888888888888888,
              "#fdca26"
             ],
             [
              1,
              "#f0f921"
             ]
            ],
            "type": "surface"
           }
          ],
          "table": [
           {
            "cells": {
             "fill": {
              "color": "#EBF0F8"
             },
             "line": {
              "color": "white"
             }
            },
            "header": {
             "fill": {
              "color": "#C8D4E3"
             },
             "line": {
              "color": "white"
             }
            },
            "type": "table"
           }
          ]
         },
         "layout": {
          "annotationdefaults": {
           "arrowcolor": "#2a3f5f",
           "arrowhead": 0,
           "arrowwidth": 1
          },
          "autotypenumbers": "strict",
          "coloraxis": {
           "colorbar": {
            "outlinewidth": 0,
            "ticks": ""
           }
          },
          "colorscale": {
           "diverging": [
            [
             0,
             "#8e0152"
            ],
            [
             0.1,
             "#c51b7d"
            ],
            [
             0.2,
             "#de77ae"
            ],
            [
             0.3,
             "#f1b6da"
            ],
            [
             0.4,
             "#fde0ef"
            ],
            [
             0.5,
             "#f7f7f7"
            ],
            [
             0.6,
             "#e6f5d0"
            ],
            [
             0.7,
             "#b8e186"
            ],
            [
             0.8,
             "#7fbc41"
            ],
            [
             0.9,
             "#4d9221"
            ],
            [
             1,
             "#276419"
            ]
           ],
           "sequential": [
            [
             0,
             "#0d0887"
            ],
            [
             0.1111111111111111,
             "#46039f"
            ],
            [
             0.2222222222222222,
             "#7201a8"
            ],
            [
             0.3333333333333333,
             "#9c179e"
            ],
            [
             0.4444444444444444,
             "#bd3786"
            ],
            [
             0.5555555555555556,
             "#d8576b"
            ],
            [
             0.6666666666666666,
             "#ed7953"
            ],
            [
             0.7777777777777778,
             "#fb9f3a"
            ],
            [
             0.8888888888888888,
             "#fdca26"
            ],
            [
             1,
             "#f0f921"
            ]
           ],
           "sequentialminus": [
            [
             0,
             "#0d0887"
            ],
            [
             0.1111111111111111,
             "#46039f"
            ],
            [
             0.2222222222222222,
             "#7201a8"
            ],
            [
             0.3333333333333333,
             "#9c179e"
            ],
            [
             0.4444444444444444,
             "#bd3786"
            ],
            [
             0.5555555555555556,
             "#d8576b"
            ],
            [
             0.6666666666666666,
             "#ed7953"
            ],
            [
             0.7777777777777778,
             "#fb9f3a"
            ],
            [
             0.8888888888888888,
             "#fdca26"
            ],
            [
             1,
             "#f0f921"
            ]
           ]
          },
          "colorway": [
           "#636efa",
           "#EF553B",
           "#00cc96",
           "#ab63fa",
           "#FFA15A",
           "#19d3f3",
           "#FF6692",
           "#B6E880",
           "#FF97FF",
           "#FECB52"
          ],
          "font": {
           "color": "#2a3f5f"
          },
          "geo": {
           "bgcolor": "white",
           "lakecolor": "white",
           "landcolor": "#E5ECF6",
           "showlakes": true,
           "showland": true,
           "subunitcolor": "white"
          },
          "hoverlabel": {
           "align": "left"
          },
          "hovermode": "closest",
          "mapbox": {
           "style": "light"
          },
          "paper_bgcolor": "white",
          "plot_bgcolor": "#E5ECF6",
          "polar": {
           "angularaxis": {
            "gridcolor": "white",
            "linecolor": "white",
            "ticks": ""
           },
           "bgcolor": "#E5ECF6",
           "radialaxis": {
            "gridcolor": "white",
            "linecolor": "white",
            "ticks": ""
           }
          },
          "scene": {
           "xaxis": {
            "backgroundcolor": "#E5ECF6",
            "gridcolor": "white",
            "gridwidth": 2,
            "linecolor": "white",
            "showbackground": true,
            "ticks": "",
            "zerolinecolor": "white"
           },
           "yaxis": {
            "backgroundcolor": "#E5ECF6",
            "gridcolor": "white",
            "gridwidth": 2,
            "linecolor": "white",
            "showbackground": true,
            "ticks": "",
            "zerolinecolor": "white"
           },
           "zaxis": {
            "backgroundcolor": "#E5ECF6",
            "gridcolor": "white",
            "gridwidth": 2,
            "linecolor": "white",
            "showbackground": true,
            "ticks": "",
            "zerolinecolor": "white"
           }
          },
          "shapedefaults": {
           "line": {
            "color": "#2a3f5f"
           }
          },
          "ternary": {
           "aaxis": {
            "gridcolor": "white",
            "linecolor": "white",
            "ticks": ""
           },
           "baxis": {
            "gridcolor": "white",
            "linecolor": "white",
            "ticks": ""
           },
           "bgcolor": "#E5ECF6",
           "caxis": {
            "gridcolor": "white",
            "linecolor": "white",
            "ticks": ""
           }
          },
          "title": {
           "x": 0.05
          },
          "xaxis": {
           "automargin": true,
           "gridcolor": "white",
           "linecolor": "white",
           "ticks": "",
           "title": {
            "standoff": 15
           },
           "zerolinecolor": "white",
           "zerolinewidth": 2
          },
          "yaxis": {
           "automargin": true,
           "gridcolor": "white",
           "linecolor": "white",
           "ticks": "",
           "title": {
            "standoff": 15
           },
           "zerolinecolor": "white",
           "zerolinewidth": 2
          }
         }
        },
        "title": {
         "font": {
          "color": "maroon",
          "family": "Monotype Corsiva",
          "size": 24,
          "weight": "bold"
         },
         "text": "Recipes and their cuisines, Loved by 900+ people with Avg Rating 4.5+",
         "x": 0.5,
         "xanchor": "center",
         "yanchor": "top"
        },
        "width": 650
       }
      }
     },
     "metadata": {},
     "output_type": "display_data"
    }
   ],
   "source": [
    "# Filter top cuisines with criteria: total_ratings > 900 and avg_rating 4.5 and above to balance quantity and quality\n",
    "# Intuition: A cuisine being rated by 900+ people and achieving an average rating of 4.5+ on a scale of 1 to 5, is safe to be considered as popular.\n",
    "# However, this is not an exhaustive criteria at all, and there are possibly other popular recipes/cuisines as well which are not covered under this criteria.\n",
    "top_cuisines = (cuisines[\n",
    "    (\n",
    "    (cuisines['total_ratings'] > 900) & (cuisines['avg_rating'] >= 4.5))\n",
    "    ])\n",
    "print(top_cuisines.nunique())\n",
    "\n",
    "# Sort by total_ratings\n",
    "top_cuisines = top_cuisines.sort_values('total_ratings', ascending=True)\n",
    "\n",
    "\n",
    "# Build sunburst: country -> recipe\n",
    "fig = px.sunburst(\n",
    "    top_cuisines,\n",
    "    path=['country', 'name'],   # hierarchy\n",
    "    values='total_ratings',     # slice size = total ratings\n",
    "    color='avg_rating',            # color by avg_rating\n",
    "    color_continuous_scale='YlOrRd',\n",
    "    hover_data=['author', 'avg_rating', 'total_ratings', 'calories'],\n",
    ")\n",
    "\n",
    "# Make some changes in layout specifications\n",
    "fig.update_layout(\n",
    "    title=dict(\n",
    "        text=\"Recipes and their cuisines, Loved by 900+ people with Avg Rating 4.5+\",\n",
    "        x=0.5,            # center\n",
    "        xanchor='center',\n",
    "        yanchor='top',\n",
    "        font=dict(size=24, family=\"Monotype Corsiva\", weight='bold', color=\"maroon\")\n",
    "    ),\n",
    "    width=650,   # increase for bigger plot\n",
    "    height=500,  \n",
    "    margin=dict(t=50, l=0, r=0, b=50),  # reduce margins\n",
    "    annotations=[\n",
    "        dict(\n",
    "            text=\"Data Source: 'www.allrecipes.com', brought by TidyTuesday 16-09-2025\",   # text to display\n",
    "            x=0.5,                          # center horizontally\n",
    "            y=-0.1,                         # below the chart\n",
    "            showarrow=False,\n",
    "            xref=\"paper\", yref=\"paper\",     # relative to entire figure\n",
    "            font=dict(size=12, color=\"gray\", family=\"Arial\")\n",
    "        )\n",
    "    ]\n",
    ")\n",
    "\n",
    "# Adjustments on font size and marker colors\n",
    "fig.update_traces(textfont_size=14, marker=dict(line=dict(color='gray')))\n",
    "\n",
    "# Display plot\n",
    "fig.show()"
   ]
  },
  {
   "cell_type": "markdown",
   "id": "2ff822a0",
   "metadata": {},
   "source": [
    "#### 3.3 Plot popular cuisines on a geo map to visualise across the globe"
   ]
  },
  {
   "cell_type": "code",
   "execution_count": 246,
   "id": "7fa4c993",
   "metadata": {},
   "outputs": [
    {
     "name": "stdout",
     "output_type": "stream",
     "text": [
      "                         country  num_recipes  avg_rating  avg_total_ratings\n",
      "6                      Brazilian           67    4.254839          77.967742\n",
      "8                       Canadian           67    4.547761         135.044776\n",
      "15                      Filipino           66    4.434375          54.203125\n",
      "10                       Chinese           65    4.579688         110.171875\n",
      "2   Australian and New Zealander           65    4.362903          77.080645\n",
      "17                        French           65    4.691935         167.612903\n",
      "37                       Russian           65    4.572308          50.630769\n",
      "20                        Indian           65    4.504688          92.687500\n",
      "12                         Cuban           65    4.521538          70.030769\n",
      "23                       Italian           64    4.654386          23.035088\n",
      "39                     Soul Food           63    4.565079         133.476190\n",
      "7               Cajun and Creole           63    4.613333         158.733333\n",
      "25                      Japanese           63    4.487931         126.810345\n",
      "18                        German           62    4.455932          89.355932\n",
      "48                    Vietnamese           62    4.466102          51.610169\n",
      "46                          Thai           62    4.523729         133.440678\n",
      "19                         Greek           62    4.677193         195.807018\n"
     ]
    },
    {
     "data": {
      "application/vnd.plotly.v1+json": {
       "config": {
        "plotlyServerURL": "https://plot.ly"
       },
       "data": [
        {
         "customdata": {
          "bdata": "AAAAAADAUEAFR09w9AQRQL733nvvfVNAAAAAAADAUEAlgXlP6DASQEkPVM5u4WBAAAAAAACAUEDNzMzMzLwRQAAAAAAAGktAAAAAAABAUECamZmZmVESQAAAAAAAi1tAAAAAAABAUEB0zjnnnHMRQKWUUkopRVNAAAAAAABAUEDEq0i8isQSQHTOOeec82RAAAAAAABAUEDU1xYHC0oSQAy90Au9UElAAAAAAABAUEDNzMzMzAQSQAAAAAAALFdAAAAAAABAUEDHp68tDhYSQCD4gR/4gVFAAAAAAAAAUEDiCblaF54SQJDgPoL7CDdAAAAAAACAT0ArpEIqpEISQPQ8z/M8r2BAAAAAAACAT0B02kCnDXQSQHd3d3d312NAAAAAAACAT0BDOm8xpPMRQMs9jbDcs19AAAAAAAAAT0CaAjvk39IRQMNJ3ZfHVlZAAAAAAAAAT0CyFUHDSd0RQDCPrQgazklAAAAAAAAAT0A217hdTBgSQDCPrQgarmBAAAAAAAAAT0BY68ITcrUSQJ3FdBbTeWhA",
          "dtype": "f8",
          "shape": "17, 3"
         },
         "geo": "geo",
         "hovertemplate": "<b>%{hovertext}</b><br><br>avg_total_ratings=%{customdata[2]}<br>country_name=%{location}<br>num_recipes=%{customdata[0]}<br>avg_rating=%{marker.color}<extra></extra>",
         "hovertext": [
          "Brazilian",
          "Canadian",
          "Filipino",
          "Chinese",
          "Australian and New Zealander",
          "French",
          "Russian",
          "Indian",
          "Cuban",
          "Italian",
          "Soul Food",
          "Cajun and Creole",
          "Japanese",
          "German",
          "Vietnamese",
          "Thai",
          "Greek"
         ],
         "legendgroup": "",
         "locationmode": "country names",
         "locations": [
          "Brazil",
          "Canada",
          "Philippines",
          "China",
          "Australia",
          "France",
          "Russia",
          "India",
          "Cuba",
          "Italy",
          "USA",
          "USA",
          "Japan",
          null,
          "Vietnam",
          "Thailand",
          "Greece"
         ],
         "marker": {
          "color": {
           "bdata": "BUdPcPQEEUAlgXlP6DASQM3MzMzMvBFAmpmZmZlREkB0zjnnnHMRQMSrSLyKxBJA1NcWBwtKEkDNzMzMzAQSQMenry0OFhJA4gm5WheeEkArpEIqpEISQHTaQKcNdBJAQzpvMaTzEUCaAjvk39IRQLIVQcNJ3RFANte4XUwYEkBY68ITcrUSQA==",
           "dtype": "f8"
          },
          "coloraxis": "coloraxis",
          "size": {
           "bdata": "vvfee+99U0BJD1TObuFgQAAAAAAAGktAAAAAAACLW0CllFJKKUVTQHTOOeec82RADL3QC71QSUAAAAAAACxXQCD4gR/4gVFAkOA+gvsIN0D0PM/zPK9gQHd3d3d312NAyz2NsNyzX0DDSd2Xx1ZWQDCPrQgazklAMI+tCBquYECdxXQW03loQA==",
           "dtype": "f8"
          },
          "sizemode": "area",
          "sizeref": 0.48951754385964913,
          "symbol": "circle"
         },
         "mode": "markers",
         "name": "",
         "showlegend": false,
         "type": "scattergeo"
        }
       ],
       "layout": {
        "coloraxis": {
         "colorbar": {
          "title": {
           "text": "avg_rating"
          }
         },
         "colorscale": [
          [
           0,
           "rgb(255,255,204)"
          ],
          [
           0.125,
           "rgb(255,237,160)"
          ],
          [
           0.25,
           "rgb(254,217,118)"
          ],
          [
           0.375,
           "rgb(254,178,76)"
          ],
          [
           0.5,
           "rgb(253,141,60)"
          ],
          [
           0.625,
           "rgb(252,78,42)"
          ],
          [
           0.75,
           "rgb(227,26,28)"
          ],
          [
           0.875,
           "rgb(189,0,38)"
          ],
          [
           1,
           "rgb(128,0,38)"
          ]
         ]
        },
        "geo": {
         "center": {},
         "domain": {
          "x": [
           0,
           1
          ],
          "y": [
           0,
           1
          ]
         },
         "projection": {
          "type": "natural earth"
         },
         "showcoastlines": true,
         "showframe": false
        },
        "height": 500,
        "legend": {
         "itemsizing": "constant",
         "tracegroupgap": 0
        },
        "template": {
         "data": {
          "bar": [
           {
            "error_x": {
             "color": "#2a3f5f"
            },
            "error_y": {
             "color": "#2a3f5f"
            },
            "marker": {
             "line": {
              "color": "#E5ECF6",
              "width": 0.5
             },
             "pattern": {
              "fillmode": "overlay",
              "size": 10,
              "solidity": 0.2
             }
            },
            "type": "bar"
           }
          ],
          "barpolar": [
           {
            "marker": {
             "line": {
              "color": "#E5ECF6",
              "width": 0.5
             },
             "pattern": {
              "fillmode": "overlay",
              "size": 10,
              "solidity": 0.2
             }
            },
            "type": "barpolar"
           }
          ],
          "carpet": [
           {
            "aaxis": {
             "endlinecolor": "#2a3f5f",
             "gridcolor": "white",
             "linecolor": "white",
             "minorgridcolor": "white",
             "startlinecolor": "#2a3f5f"
            },
            "baxis": {
             "endlinecolor": "#2a3f5f",
             "gridcolor": "white",
             "linecolor": "white",
             "minorgridcolor": "white",
             "startlinecolor": "#2a3f5f"
            },
            "type": "carpet"
           }
          ],
          "choropleth": [
           {
            "colorbar": {
             "outlinewidth": 0,
             "ticks": ""
            },
            "type": "choropleth"
           }
          ],
          "contour": [
           {
            "colorbar": {
             "outlinewidth": 0,
             "ticks": ""
            },
            "colorscale": [
             [
              0,
              "#0d0887"
             ],
             [
              0.1111111111111111,
              "#46039f"
             ],
             [
              0.2222222222222222,
              "#7201a8"
             ],
             [
              0.3333333333333333,
              "#9c179e"
             ],
             [
              0.4444444444444444,
              "#bd3786"
             ],
             [
              0.5555555555555556,
              "#d8576b"
             ],
             [
              0.6666666666666666,
              "#ed7953"
             ],
             [
              0.7777777777777778,
              "#fb9f3a"
             ],
             [
              0.8888888888888888,
              "#fdca26"
             ],
             [
              1,
              "#f0f921"
             ]
            ],
            "type": "contour"
           }
          ],
          "contourcarpet": [
           {
            "colorbar": {
             "outlinewidth": 0,
             "ticks": ""
            },
            "type": "contourcarpet"
           }
          ],
          "heatmap": [
           {
            "colorbar": {
             "outlinewidth": 0,
             "ticks": ""
            },
            "colorscale": [
             [
              0,
              "#0d0887"
             ],
             [
              0.1111111111111111,
              "#46039f"
             ],
             [
              0.2222222222222222,
              "#7201a8"
             ],
             [
              0.3333333333333333,
              "#9c179e"
             ],
             [
              0.4444444444444444,
              "#bd3786"
             ],
             [
              0.5555555555555556,
              "#d8576b"
             ],
             [
              0.6666666666666666,
              "#ed7953"
             ],
             [
              0.7777777777777778,
              "#fb9f3a"
             ],
             [
              0.8888888888888888,
              "#fdca26"
             ],
             [
              1,
              "#f0f921"
             ]
            ],
            "type": "heatmap"
           }
          ],
          "histogram": [
           {
            "marker": {
             "pattern": {
              "fillmode": "overlay",
              "size": 10,
              "solidity": 0.2
             }
            },
            "type": "histogram"
           }
          ],
          "histogram2d": [
           {
            "colorbar": {
             "outlinewidth": 0,
             "ticks": ""
            },
            "colorscale": [
             [
              0,
              "#0d0887"
             ],
             [
              0.1111111111111111,
              "#46039f"
             ],
             [
              0.2222222222222222,
              "#7201a8"
             ],
             [
              0.3333333333333333,
              "#9c179e"
             ],
             [
              0.4444444444444444,
              "#bd3786"
             ],
             [
              0.5555555555555556,
              "#d8576b"
             ],
             [
              0.6666666666666666,
              "#ed7953"
             ],
             [
              0.7777777777777778,
              "#fb9f3a"
             ],
             [
              0.8888888888888888,
              "#fdca26"
             ],
             [
              1,
              "#f0f921"
             ]
            ],
            "type": "histogram2d"
           }
          ],
          "histogram2dcontour": [
           {
            "colorbar": {
             "outlinewidth": 0,
             "ticks": ""
            },
            "colorscale": [
             [
              0,
              "#0d0887"
             ],
             [
              0.1111111111111111,
              "#46039f"
             ],
             [
              0.2222222222222222,
              "#7201a8"
             ],
             [
              0.3333333333333333,
              "#9c179e"
             ],
             [
              0.4444444444444444,
              "#bd3786"
             ],
             [
              0.5555555555555556,
              "#d8576b"
             ],
             [
              0.6666666666666666,
              "#ed7953"
             ],
             [
              0.7777777777777778,
              "#fb9f3a"
             ],
             [
              0.8888888888888888,
              "#fdca26"
             ],
             [
              1,
              "#f0f921"
             ]
            ],
            "type": "histogram2dcontour"
           }
          ],
          "mesh3d": [
           {
            "colorbar": {
             "outlinewidth": 0,
             "ticks": ""
            },
            "type": "mesh3d"
           }
          ],
          "parcoords": [
           {
            "line": {
             "colorbar": {
              "outlinewidth": 0,
              "ticks": ""
             }
            },
            "type": "parcoords"
           }
          ],
          "pie": [
           {
            "automargin": true,
            "type": "pie"
           }
          ],
          "scatter": [
           {
            "fillpattern": {
             "fillmode": "overlay",
             "size": 10,
             "solidity": 0.2
            },
            "type": "scatter"
           }
          ],
          "scatter3d": [
           {
            "line": {
             "colorbar": {
              "outlinewidth": 0,
              "ticks": ""
             }
            },
            "marker": {
             "colorbar": {
              "outlinewidth": 0,
              "ticks": ""
             }
            },
            "type": "scatter3d"
           }
          ],
          "scattercarpet": [
           {
            "marker": {
             "colorbar": {
              "outlinewidth": 0,
              "ticks": ""
             }
            },
            "type": "scattercarpet"
           }
          ],
          "scattergeo": [
           {
            "marker": {
             "colorbar": {
              "outlinewidth": 0,
              "ticks": ""
             }
            },
            "type": "scattergeo"
           }
          ],
          "scattergl": [
           {
            "marker": {
             "colorbar": {
              "outlinewidth": 0,
              "ticks": ""
             }
            },
            "type": "scattergl"
           }
          ],
          "scattermap": [
           {
            "marker": {
             "colorbar": {
              "outlinewidth": 0,
              "ticks": ""
             }
            },
            "type": "scattermap"
           }
          ],
          "scattermapbox": [
           {
            "marker": {
             "colorbar": {
              "outlinewidth": 0,
              "ticks": ""
             }
            },
            "type": "scattermapbox"
           }
          ],
          "scatterpolar": [
           {
            "marker": {
             "colorbar": {
              "outlinewidth": 0,
              "ticks": ""
             }
            },
            "type": "scatterpolar"
           }
          ],
          "scatterpolargl": [
           {
            "marker": {
             "colorbar": {
              "outlinewidth": 0,
              "ticks": ""
             }
            },
            "type": "scatterpolargl"
           }
          ],
          "scatterternary": [
           {
            "marker": {
             "colorbar": {
              "outlinewidth": 0,
              "ticks": ""
             }
            },
            "type": "scatterternary"
           }
          ],
          "surface": [
           {
            "colorbar": {
             "outlinewidth": 0,
             "ticks": ""
            },
            "colorscale": [
             [
              0,
              "#0d0887"
             ],
             [
              0.1111111111111111,
              "#46039f"
             ],
             [
              0.2222222222222222,
              "#7201a8"
             ],
             [
              0.3333333333333333,
              "#9c179e"
             ],
             [
              0.4444444444444444,
              "#bd3786"
             ],
             [
              0.5555555555555556,
              "#d8576b"
             ],
             [
              0.6666666666666666,
              "#ed7953"
             ],
             [
              0.7777777777777778,
              "#fb9f3a"
             ],
             [
              0.8888888888888888,
              "#fdca26"
             ],
             [
              1,
              "#f0f921"
             ]
            ],
            "type": "surface"
           }
          ],
          "table": [
           {
            "cells": {
             "fill": {
              "color": "#EBF0F8"
             },
             "line": {
              "color": "white"
             }
            },
            "header": {
             "fill": {
              "color": "#C8D4E3"
             },
             "line": {
              "color": "white"
             }
            },
            "type": "table"
           }
          ]
         },
         "layout": {
          "annotationdefaults": {
           "arrowcolor": "#2a3f5f",
           "arrowhead": 0,
           "arrowwidth": 1
          },
          "autotypenumbers": "strict",
          "coloraxis": {
           "colorbar": {
            "outlinewidth": 0,
            "ticks": ""
           }
          },
          "colorscale": {
           "diverging": [
            [
             0,
             "#8e0152"
            ],
            [
             0.1,
             "#c51b7d"
            ],
            [
             0.2,
             "#de77ae"
            ],
            [
             0.3,
             "#f1b6da"
            ],
            [
             0.4,
             "#fde0ef"
            ],
            [
             0.5,
             "#f7f7f7"
            ],
            [
             0.6,
             "#e6f5d0"
            ],
            [
             0.7,
             "#b8e186"
            ],
            [
             0.8,
             "#7fbc41"
            ],
            [
             0.9,
             "#4d9221"
            ],
            [
             1,
             "#276419"
            ]
           ],
           "sequential": [
            [
             0,
             "#0d0887"
            ],
            [
             0.1111111111111111,
             "#46039f"
            ],
            [
             0.2222222222222222,
             "#7201a8"
            ],
            [
             0.3333333333333333,
             "#9c179e"
            ],
            [
             0.4444444444444444,
             "#bd3786"
            ],
            [
             0.5555555555555556,
             "#d8576b"
            ],
            [
             0.6666666666666666,
             "#ed7953"
            ],
            [
             0.7777777777777778,
             "#fb9f3a"
            ],
            [
             0.8888888888888888,
             "#fdca26"
            ],
            [
             1,
             "#f0f921"
            ]
           ],
           "sequentialminus": [
            [
             0,
             "#0d0887"
            ],
            [
             0.1111111111111111,
             "#46039f"
            ],
            [
             0.2222222222222222,
             "#7201a8"
            ],
            [
             0.3333333333333333,
             "#9c179e"
            ],
            [
             0.4444444444444444,
             "#bd3786"
            ],
            [
             0.5555555555555556,
             "#d8576b"
            ],
            [
             0.6666666666666666,
             "#ed7953"
            ],
            [
             0.7777777777777778,
             "#fb9f3a"
            ],
            [
             0.8888888888888888,
             "#fdca26"
            ],
            [
             1,
             "#f0f921"
            ]
           ]
          },
          "colorway": [
           "#636efa",
           "#EF553B",
           "#00cc96",
           "#ab63fa",
           "#FFA15A",
           "#19d3f3",
           "#FF6692",
           "#B6E880",
           "#FF97FF",
           "#FECB52"
          ],
          "font": {
           "color": "#2a3f5f"
          },
          "geo": {
           "bgcolor": "white",
           "lakecolor": "white",
           "landcolor": "#E5ECF6",
           "showlakes": true,
           "showland": true,
           "subunitcolor": "white"
          },
          "hoverlabel": {
           "align": "left"
          },
          "hovermode": "closest",
          "mapbox": {
           "style": "light"
          },
          "paper_bgcolor": "white",
          "plot_bgcolor": "#E5ECF6",
          "polar": {
           "angularaxis": {
            "gridcolor": "white",
            "linecolor": "white",
            "ticks": ""
           },
           "bgcolor": "#E5ECF6",
           "radialaxis": {
            "gridcolor": "white",
            "linecolor": "white",
            "ticks": ""
           }
          },
          "scene": {
           "xaxis": {
            "backgroundcolor": "#E5ECF6",
            "gridcolor": "white",
            "gridwidth": 2,
            "linecolor": "white",
            "showbackground": true,
            "ticks": "",
            "zerolinecolor": "white"
           },
           "yaxis": {
            "backgroundcolor": "#E5ECF6",
            "gridcolor": "white",
            "gridwidth": 2,
            "linecolor": "white",
            "showbackground": true,
            "ticks": "",
            "zerolinecolor": "white"
           },
           "zaxis": {
            "backgroundcolor": "#E5ECF6",
            "gridcolor": "white",
            "gridwidth": 2,
            "linecolor": "white",
            "showbackground": true,
            "ticks": "",
            "zerolinecolor": "white"
           }
          },
          "shapedefaults": {
           "line": {
            "color": "#2a3f5f"
           }
          },
          "ternary": {
           "aaxis": {
            "gridcolor": "white",
            "linecolor": "white",
            "ticks": ""
           },
           "baxis": {
            "gridcolor": "white",
            "linecolor": "white",
            "ticks": ""
           },
           "bgcolor": "#E5ECF6",
           "caxis": {
            "gridcolor": "white",
            "linecolor": "white",
            "ticks": ""
           }
          },
          "title": {
           "x": 0.05
          },
          "xaxis": {
           "automargin": true,
           "gridcolor": "white",
           "linecolor": "white",
           "ticks": "",
           "title": {
            "standoff": 15
           },
           "zerolinecolor": "white",
           "zerolinewidth": 2
          },
          "yaxis": {
           "automargin": true,
           "gridcolor": "white",
           "linecolor": "white",
           "ticks": "",
           "title": {
            "standoff": 15
           },
           "zerolinecolor": "white",
           "zerolinewidth": 2
          }
         }
        },
        "title": {
         "text": "Top Cuisines Around the World by Number of Recipes, Avg Rating, and Number of Ratings"
        },
        "width": 1000
       }
      }
     },
     "metadata": {},
     "output_type": "display_data"
    }
   ],
   "source": [
    "# Group by country\n",
    "country_stats = cuisines.groupby('country').agg(\n",
    "    num_recipes=('name', 'count'),\n",
    "    avg_rating=('avg_rating', 'mean'),\n",
    "    avg_total_ratings=('total_ratings', 'mean')\n",
    ").reset_index()\n",
    "\n",
    "# Sort by number of recipes\n",
    "country_stats = country_stats.sort_values('num_recipes', ascending=False)\n",
    "top_countries = country_stats.sort_values('num_recipes', ascending=False).head(17)\n",
    "\n",
    "print(top_countries)  # top N countries\n",
    "\n",
    "# Map cuisine names → actual country names for geo map\n",
    "cuisine_to_country = {\n",
    "    'Brazilian': 'Brazil',\n",
    "    'Canadian': 'Canada',\n",
    "    'Filipino': 'Philippines',\n",
    "    'Chinese': 'China',\n",
    "    'Australian and New Zealander': 'Australia',\n",
    "    'French': 'France',\n",
    "    'Russian': 'Russia',\n",
    "    'Indian': 'India',\n",
    "    'Cuban': 'Cuba',\n",
    "    'Italian': 'Italy',\n",
    "    'Soul Food': 'USA',\n",
    "    'Cajun and Creole': 'USA',\n",
    "    'Japanese': 'Japan',\n",
    "    'Greek': 'Greece',\n",
    "    'Vietnamese': 'Vietnam',\n",
    "    'Thai': 'Thailand'\n",
    "}\n",
    "\n",
    "# Add a new column 'country_name'\n",
    "top_countries['country_name'] = top_countries['country'].map(cuisine_to_country)\n",
    "\n",
    "# Build a geo scatter plot\n",
    "fig = px.scatter_geo(\n",
    "    top_countries,\n",
    "    locations='country_name',      # use mapped country names\n",
    "    locationmode='country names',\n",
    "    size='avg_total_ratings',\n",
    "    color='avg_rating',\n",
    "    color_continuous_scale='YlOrRd',\n",
    "    hover_name='country',\n",
    "    hover_data=['num_recipes', 'avg_rating', 'avg_total_ratings'],\n",
    "    projection='natural earth',\n",
    "    title='Top Cuisines Around the World by Number of Recipes, Avg Rating, and Number of Ratings'\n",
    ")\n",
    "\n",
    "fig.update_layout(geo=dict(showframe=False, showcoastlines=True), width=1000, height=500)\n",
    "fig.show()\n"
   ]
  },
  {
   "cell_type": "markdown",
   "id": "4623fa7f",
   "metadata": {},
   "source": [
    "#### 3.4 Visualise a few top recipes across a few selected popular cuisines"
   ]
  },
  {
   "cell_type": "code",
   "execution_count": 251,
   "id": "ecc1c44a",
   "metadata": {},
   "outputs": [
    {
     "name": "stdout",
     "output_type": "stream",
     "text": [
      "  continent           country                                    name  total_ratings  avg_rating  calories   fat  carbs  protein\n",
      "0  Americas  Cajun and Creole  Chef John's Sausage & Shrimp Jambalaya          848.0         4.7     495.0  25.0   37.0     30.0\n",
      "1  Americas  Cajun and Creole                    Easy Cajun Jambalaya          793.0         4.5     488.0  14.0   59.0     29.0\n",
      "2  Americas  Cajun and Creole         Cajun Chicken and Sausage Gumbo          653.0         4.7     480.0  40.0   15.0     16.0\n",
      "3  Americas  Cajun and Creole             Chef John's Shrimp Étouffée          648.0         4.9     424.0  15.0   30.0     41.0\n",
      "4  Americas  Cajun and Creole                  Creole Seasoning Blend          516.0         4.8      16.0   0.0    3.0      1.0\n"
     ]
    }
   ],
   "source": [
    "# Select some popular cuisines from the previous exploration - based on the following combination of key indicators:\n",
    "# num_recipes: 62 and above - to indicate variety\n",
    "# mean avg_rating: 4.5 and above - to indicate quality\n",
    "# avg total_ratings: 90+ - rated by a descent number of people indicating popularity\n",
    "selected_cuisines = ['French', 'Canadian', 'Chinese', 'Indian', 'Cajun and Creole', 'Soul Food', 'Thai', 'Greek']\n",
    "\n",
    "# Add continent mapping \n",
    "cuisine_to_continent = {\n",
    "    'French': 'Europe',\n",
    "    'Greek': 'Europe',\n",
    "    'Canadian': 'Americas',\n",
    "    'Cajun and Creole': 'Americas',\n",
    "    'Soul Food': 'Americas',\n",
    "    'Chinese': 'Asia',\n",
    "    'Indian': 'Asia',\n",
    "    'Thai': 'Asia'\n",
    "}\n",
    "\n",
    "# Filter recipes from above selected cuisines, based on criteria: avg_rating >= 4.5 and total_ratings >=500\n",
    "filtered_recipes = cuisines[\n",
    "    (cuisines['country'].isin(selected_cuisines)) &\n",
    "    (cuisines['avg_rating'] >= 4.5) &\n",
    "    (cuisines['total_ratings'] >= 500)\n",
    "].copy()\n",
    "\n",
    "# Add continent column\n",
    "filtered_recipes['continent'] = filtered_recipes['country'].map(cuisine_to_continent)\n",
    "\n",
    "# Keep only necessary columns for sunburst\n",
    "sunburst_df = filtered_recipes[['continent', 'country', 'name', 'total_ratings', 'avg_rating', 'calories', 'fat', 'carbs', 'protein']]\n",
    "\n",
    "# Pick top 5 recipes per cuisine by total_ratings (it could also be done by avg_rating instead of total_ratings)\n",
    "sunburst_df = sunburst_df.sort_values(['country', 'total_ratings'], ascending=[True, False])\n",
    "top_recipes_per_cuisine = sunburst_df.groupby('country').head(5).reset_index(drop=True)\n",
    "\n",
    "print(top_recipes_per_cuisine.head())\n"
   ]
  },
  {
   "cell_type": "code",
   "execution_count": 252,
   "id": "fbdf9480",
   "metadata": {},
   "outputs": [
    {
     "data": {
      "application/vnd.plotly.v1+json": {
       "config": {
        "plotlyServerURL": "https://plot.ly"
       },
       "data": [
        {
         "branchvalues": "total",
         "customdata": [
          [
           848,
           4.7,
           "495.0",
           "25.0",
           "37.0",
           "30.0"
          ],
          [
           793,
           4.5,
           "488.0",
           "14.0",
           "59.0",
           "29.0"
          ],
          [
           653,
           4.7,
           "480.0",
           "40.0",
           "15.0",
           "16.0"
          ],
          [
           648,
           4.9,
           "424.0",
           "15.0",
           "30.0",
           "41.0"
          ],
          [
           516,
           4.8,
           "16.0",
           "0.0",
           "3.0",
           "1.0"
          ],
          [
           984,
           4.8,
           "710.0",
           "47.0",
           "44.0",
           "28.0"
          ],
          [
           885,
           4.6,
           "551.0",
           "29.0",
           "42.0",
           "35.0"
          ],
          [
           574,
           4.7,
           "605.0",
           "26.0",
           "68.0",
           "26.0"
          ],
          [
           553,
           4.5,
           "217.0",
           "8.0",
           "11.0",
           "26.0"
          ],
          [
           985,
           4.5,
           "163.0",
           "18.0",
           "1.0",
           "2.0"
          ],
          [
           809,
           4.9,
           "255.0",
           "19.0",
           "5.0",
           "6.0"
          ],
          [
           763,
           4.6,
           "94.0",
           "4.0",
           "10.0",
           "4.0"
          ],
          [
           592,
           4.7,
           "761.0",
           "68.0",
           "19.0",
           "19.0"
          ],
          [
           541,
           4.8,
           "151.0",
           "6.0",
           "21.0",
           "4.0"
          ],
          [
           884,
           4.6,
           "494.0",
           "35.0",
           "32.0",
           "18.0"
          ],
          [
           672,
           4.6,
           "357.0",
           "16.0",
           "40.0",
           "16.0"
          ],
          [
           654,
           4.6,
           "567.0",
           "39.0",
           "29.0",
           "24.0"
          ],
          [
           633,
           4.6,
           "393.0",
           "13.0",
           "57.0",
           "14.0"
          ],
          [
           612,
           4.6,
           "418.0",
           "19.0",
           "59.0",
           "7.0"
          ],
          [
           719,
           4.5,
           "501.0",
           "37.0",
           "19.0",
           "30.0"
          ],
          [
           605,
           4.8,
           "625.0",
           "48.0",
           "19.0",
           "34.0"
          ],
          [
           567,
           4.7,
           "65.0",
           "5.0",
           "6.0",
           "2.0"
          ],
          [
           504,
           4.5,
           "1262.0",
           "85.0",
           "56.0",
           "66.0"
          ],
          [
           683,
           4.7,
           "453.0",
           "21.0",
           "61.0",
           "7.0"
          ],
          [
           587,
           4.8,
           "245.0",
           "9.0",
           "38.0",
           "6.0"
          ],
          [
           582,
           4.6,
           "472.0",
           "41.0",
           "15.0",
           "27.0"
          ],
          [
           575,
           4.6,
           "162.0",
           "3.0",
           "4.0",
           "29.0"
          ],
          [
           527,
           4.5,
           "623.0",
           "35.0",
           "78.0",
           "20.0"
          ],
          [
           848,
           4.7,
           "495.0",
           "25.0",
           "37.0",
           "30.0"
          ],
          [
           793,
           4.5,
           "488.0",
           "14.0",
           "59.0",
           "29.0"
          ],
          [
           653,
           4.7,
           "480.0",
           "40.0",
           "15.0",
           "16.0"
          ],
          [
           648,
           4.9,
           "424.0",
           "15.0",
           "30.0",
           "41.0"
          ],
          [
           516,
           4.8,
           "16.0",
           "0.0",
           "3.0",
           "1.0"
          ],
          [
           984,
           4.8,
           "710.0",
           "47.0",
           "44.0",
           "28.0"
          ],
          [
           885,
           4.6,
           "551.0",
           "29.0",
           "42.0",
           "35.0"
          ],
          [
           574,
           4.7,
           "605.0",
           "26.0",
           "68.0",
           "26.0"
          ],
          [
           553,
           4.5,
           "217.0",
           "8.0",
           "11.0",
           "26.0"
          ],
          [
           985,
           4.5,
           "163.0",
           "18.0",
           "1.0",
           "2.0"
          ],
          [
           809,
           4.9,
           "255.0",
           "19.0",
           "5.0",
           "6.0"
          ],
          [
           763,
           4.6,
           "94.0",
           "4.0",
           "10.0",
           "4.0"
          ],
          [
           592,
           4.7,
           "761.0",
           "68.0",
           "19.0",
           "19.0"
          ],
          [
           541,
           4.8,
           "151.0",
           "6.0",
           "21.0",
           "4.0"
          ],
          [
           884,
           4.6,
           "494.0",
           "35.0",
           "32.0",
           "18.0"
          ],
          [
           672,
           4.6,
           "357.0",
           "16.0",
           "40.0",
           "16.0"
          ],
          [
           654,
           4.6,
           "567.0",
           "39.0",
           "29.0",
           "24.0"
          ],
          [
           633,
           4.6,
           "393.0",
           "13.0",
           "57.0",
           "14.0"
          ],
          [
           612,
           4.6,
           "418.0",
           "19.0",
           "59.0",
           "7.0"
          ],
          [
           719,
           4.5,
           "501.0",
           "37.0",
           "19.0",
           "30.0"
          ],
          [
           605,
           4.8,
           "625.0",
           "48.0",
           "19.0",
           "34.0"
          ],
          [
           567,
           4.7,
           "65.0",
           "5.0",
           "6.0",
           "2.0"
          ],
          [
           504,
           4.5,
           "1262.0",
           "85.0",
           "56.0",
           "66.0"
          ],
          [
           683,
           4.7,
           "453.0",
           "21.0",
           "61.0",
           "7.0"
          ],
          [
           587,
           4.8,
           "245.0",
           "9.0",
           "38.0",
           "6.0"
          ],
          [
           582,
           4.6,
           "472.0",
           "41.0",
           "15.0",
           "27.0"
          ],
          [
           575,
           4.6,
           "162.0",
           "3.0",
           "4.0",
           "29.0"
          ],
          [
           527,
           4.5,
           "623.0",
           "35.0",
           "78.0",
           "20.0"
          ],
          [
           3458,
           4.7065355696934645,
           "(?)",
           "(?)",
           "(?)",
           "(?)"
          ],
          [
           1869,
           4.70529695024077,
           "(?)",
           "(?)",
           "(?)",
           "(?)"
          ],
          [
           1127,
           4.601863354037267,
           "(?)",
           "(?)",
           "(?)",
           "26.0"
          ],
          [
           3690,
           4.684444444444444,
           "(?)",
           "(?)",
           "(?)",
           "(?)"
          ],
          [
           3455,
           4.6,
           "(?)",
           "(?)",
           "(?)",
           "(?)"
          ],
          [
           1324,
           4.6370845921450154,
           "(?)",
           "(?)",
           "19.0",
           "(?)"
          ],
          [
           1071,
           4.605882352941176,
           "(?)",
           "(?)",
           "(?)",
           "(?)"
          ],
          [
           2954,
           4.645023696682465,
           "(?)",
           "(?)",
           "(?)",
           "(?)"
          ],
          [
           6398,
           4.6893247889965615,
           "(?)",
           "(?)",
           "(?)",
           "(?)"
          ],
          [
           5405,
           4.634079555966697,
           "(?)",
           "(?)",
           "(?)",
           "(?)"
          ],
          [
           7145,
           4.643610916724982,
           "(?)",
           "(?)",
           "(?)",
           "(?)"
          ]
         ],
         "domain": {
          "x": [
           0,
           1
          ],
          "y": [
           0,
           1
          ]
         },
         "hovertemplate": "labels=%{label}<br>total_ratings=%{customdata[0]}<br>parent=%{parent}<br>id=%{id}<br>avg_rating=%{color}<br>calories=%{customdata[2]}<br>fat=%{customdata[3]}<br>carbs=%{customdata[4]}<br>protein=%{customdata[5]}<extra></extra>",
         "ids": [
          "Americas/Cajun and Creole/Chef John's Sausage & Shrimp Jambalaya/495 cal",
          "Americas/Cajun and Creole/Easy Cajun Jambalaya/488 cal",
          "Americas/Cajun and Creole/Cajun Chicken and Sausage Gumbo/480 cal",
          "Americas/Cajun and Creole/Chef John's Shrimp Étouffée/424 cal",
          "Americas/Cajun and Creole/Creole Seasoning Blend/16 cal",
          "Americas/Canadian/Boneless Buffalo Wings/710 cal",
          "Americas/Canadian/Greek Lemon Chicken and Potato Bake/551 cal",
          "Asia/Chinese/Honey Walnut Shrimp/605 cal",
          "Asia/Chinese/Grilled Asian Chicken/217 cal",
          "Europe/French/Blender Hollandaise Sauce/163 cal",
          "Europe/French/Chef John's Coq au Vin/255 cal",
          "Europe/French/French Crêpes/94 cal",
          "Europe/French/Quiche Lorraine/761 cal",
          "Europe/French/Pastry Cream/151 cal",
          "Europe/Greek/Spanakopita (Greek Spinach Pie)/494 cal",
          "Europe/Greek/Greek Lentil Soup (Fakes)/357 cal",
          "Europe/Greek/Moussaka/567 cal",
          "Europe/Greek/Greek Orzo Salad/393 cal",
          "Europe/Greek/Greek-Style Potatoes/418 cal",
          "Asia/Indian/Slow Cooker Butter Chicken/501 cal",
          "Asia/Indian/Chef John's Chicken Tikka Masala/625 cal",
          "Americas/Soul Food/Roasted Okra/65 cal",
          "Americas/Soul Food/Chef John's Buttermilk Fried Chicken/1262 cal",
          "Asia/Thai/Asian Coconut Rice/453 cal",
          "Asia/Thai/Thai Cucumber Salad/245 cal",
          "Asia/Thai/Thai Green Curry Chicken/472 cal",
          "Asia/Thai/Chicken Satay/162 cal",
          "Asia/Thai/Thai Pineapple Chicken Curry/623 cal",
          "Americas/Cajun and Creole/Chef John's Sausage & Shrimp Jambalaya",
          "Americas/Cajun and Creole/Easy Cajun Jambalaya",
          "Americas/Cajun and Creole/Cajun Chicken and Sausage Gumbo",
          "Americas/Cajun and Creole/Chef John's Shrimp Étouffée",
          "Americas/Cajun and Creole/Creole Seasoning Blend",
          "Americas/Canadian/Boneless Buffalo Wings",
          "Americas/Canadian/Greek Lemon Chicken and Potato Bake",
          "Asia/Chinese/Honey Walnut Shrimp",
          "Asia/Chinese/Grilled Asian Chicken",
          "Europe/French/Blender Hollandaise Sauce",
          "Europe/French/Chef John's Coq au Vin",
          "Europe/French/French Crêpes",
          "Europe/French/Quiche Lorraine",
          "Europe/French/Pastry Cream",
          "Europe/Greek/Spanakopita (Greek Spinach Pie)",
          "Europe/Greek/Greek Lentil Soup (Fakes)",
          "Europe/Greek/Moussaka",
          "Europe/Greek/Greek Orzo Salad",
          "Europe/Greek/Greek-Style Potatoes",
          "Asia/Indian/Slow Cooker Butter Chicken",
          "Asia/Indian/Chef John's Chicken Tikka Masala",
          "Americas/Soul Food/Roasted Okra",
          "Americas/Soul Food/Chef John's Buttermilk Fried Chicken",
          "Asia/Thai/Asian Coconut Rice",
          "Asia/Thai/Thai Cucumber Salad",
          "Asia/Thai/Thai Green Curry Chicken",
          "Asia/Thai/Chicken Satay",
          "Asia/Thai/Thai Pineapple Chicken Curry",
          "Americas/Cajun and Creole",
          "Americas/Canadian",
          "Asia/Chinese",
          "Europe/French",
          "Europe/Greek",
          "Asia/Indian",
          "Americas/Soul Food",
          "Asia/Thai",
          "Americas",
          "Asia",
          "Europe"
         ],
         "labels": [
          "495 cal",
          "488 cal",
          "480 cal",
          "424 cal",
          "16 cal",
          "710 cal",
          "551 cal",
          "605 cal",
          "217 cal",
          "163 cal",
          "255 cal",
          "94 cal",
          "761 cal",
          "151 cal",
          "494 cal",
          "357 cal",
          "567 cal",
          "393 cal",
          "418 cal",
          "501 cal",
          "625 cal",
          "65 cal",
          "1262 cal",
          "453 cal",
          "245 cal",
          "472 cal",
          "162 cal",
          "623 cal",
          "Chef John's Sausage & Shrimp Jambalaya",
          "Easy Cajun Jambalaya",
          "Cajun Chicken and Sausage Gumbo",
          "Chef John's Shrimp Étouffée",
          "Creole Seasoning Blend",
          "Boneless Buffalo Wings",
          "Greek Lemon Chicken and Potato Bake",
          "Honey Walnut Shrimp",
          "Grilled Asian Chicken",
          "Blender Hollandaise Sauce",
          "Chef John's Coq au Vin",
          "French Crêpes",
          "Quiche Lorraine",
          "Pastry Cream",
          "Spanakopita (Greek Spinach Pie)",
          "Greek Lentil Soup (Fakes)",
          "Moussaka",
          "Greek Orzo Salad",
          "Greek-Style Potatoes",
          "Slow Cooker Butter Chicken",
          "Chef John's Chicken Tikka Masala",
          "Roasted Okra",
          "Chef John's Buttermilk Fried Chicken",
          "Asian Coconut Rice",
          "Thai Cucumber Salad",
          "Thai Green Curry Chicken",
          "Chicken Satay",
          "Thai Pineapple Chicken Curry",
          "Cajun and Creole",
          "Canadian",
          "Chinese",
          "French",
          "Greek",
          "Indian",
          "Soul Food",
          "Thai",
          "Americas",
          "Asia",
          "Europe"
         ],
         "marker": {
          "coloraxis": "coloraxis",
          "colors": {
           "bdata": "zczMzMzMEkAAAAAAAAASQM3MzMzMzBJAmpmZmZmZE0AzMzMzMzMTQDMzMzMzMxNAZmZmZmZmEkDNzMzMzMwSQAAAAAAAABJAAAAAAAAAEkCamZmZmZkTQGZmZmZmZhJAzczMzMzMEkAzMzMzMzMTQGZmZmZmZhJAZmZmZmZmEkBmZmZmZmYSQGZmZmZmZhJAZmZmZmZmEkAAAAAAAAASQDMzMzMzMxNAzczMzMzMEkAAAAAAAAASQM3MzMzMzBJAMzMzMzMzE0BmZmZmZmYSQGZmZmZmZhJAAAAAAAAAEkDNzMzMzMwSQAAAAAAAABJAzczMzMzMEkCamZmZmZkTQDMzMzMzMxNAMzMzMzMzE0BmZmZmZmYSQM3MzMzMzBJAAAAAAAAAEkAAAAAAAAASQJqZmZmZmRNAZmZmZmZmEkDNzMzMzMwSQDMzMzMzMxNAZmZmZmZmEkBmZmZmZmYSQGZmZmZmZhJAZmZmZmZmEkBmZmZmZmYSQAAAAAAAABJAMzMzMzMzE0DNzMzMzMwSQAAAAAAAABJAzczMzMzMEkAzMzMzMzMTQGZmZmZmZhJAZmZmZmZmEkAAAAAAAAASQDgtdQ9+0xJAtgIdXTnSEkD0APndTmgSQGdFIwHfvBJAZmZmZmZmEkCAMUDnX4wSQGxsbGxsbBJAuJWJF4GUEkDUP4Rb3sESQLXBryZMiRJAwbp6vQ6TEkA=",
           "dtype": "f8"
          }
         },
         "name": "",
         "parents": [
          "Americas/Cajun and Creole/Chef John's Sausage & Shrimp Jambalaya",
          "Americas/Cajun and Creole/Easy Cajun Jambalaya",
          "Americas/Cajun and Creole/Cajun Chicken and Sausage Gumbo",
          "Americas/Cajun and Creole/Chef John's Shrimp Étouffée",
          "Americas/Cajun and Creole/Creole Seasoning Blend",
          "Americas/Canadian/Boneless Buffalo Wings",
          "Americas/Canadian/Greek Lemon Chicken and Potato Bake",
          "Asia/Chinese/Honey Walnut Shrimp",
          "Asia/Chinese/Grilled Asian Chicken",
          "Europe/French/Blender Hollandaise Sauce",
          "Europe/French/Chef John's Coq au Vin",
          "Europe/French/French Crêpes",
          "Europe/French/Quiche Lorraine",
          "Europe/French/Pastry Cream",
          "Europe/Greek/Spanakopita (Greek Spinach Pie)",
          "Europe/Greek/Greek Lentil Soup (Fakes)",
          "Europe/Greek/Moussaka",
          "Europe/Greek/Greek Orzo Salad",
          "Europe/Greek/Greek-Style Potatoes",
          "Asia/Indian/Slow Cooker Butter Chicken",
          "Asia/Indian/Chef John's Chicken Tikka Masala",
          "Americas/Soul Food/Roasted Okra",
          "Americas/Soul Food/Chef John's Buttermilk Fried Chicken",
          "Asia/Thai/Asian Coconut Rice",
          "Asia/Thai/Thai Cucumber Salad",
          "Asia/Thai/Thai Green Curry Chicken",
          "Asia/Thai/Chicken Satay",
          "Asia/Thai/Thai Pineapple Chicken Curry",
          "Americas/Cajun and Creole",
          "Americas/Cajun and Creole",
          "Americas/Cajun and Creole",
          "Americas/Cajun and Creole",
          "Americas/Cajun and Creole",
          "Americas/Canadian",
          "Americas/Canadian",
          "Asia/Chinese",
          "Asia/Chinese",
          "Europe/French",
          "Europe/French",
          "Europe/French",
          "Europe/French",
          "Europe/French",
          "Europe/Greek",
          "Europe/Greek",
          "Europe/Greek",
          "Europe/Greek",
          "Europe/Greek",
          "Asia/Indian",
          "Asia/Indian",
          "Americas/Soul Food",
          "Americas/Soul Food",
          "Asia/Thai",
          "Asia/Thai",
          "Asia/Thai",
          "Asia/Thai",
          "Asia/Thai",
          "Americas",
          "Americas",
          "Asia",
          "Europe",
          "Europe",
          "Asia",
          "Americas",
          "Asia",
          "",
          "",
          ""
         ],
         "textfont": {
          "size": 20
         },
         "type": "sunburst",
         "values": {
          "bdata": "AAAAAACAikAAAAAAAMiIQAAAAAAAaIRAAAAAAABAhEAAAAAAACCAQAAAAAAAwI5AAAAAAACoi0AAAAAAAPCBQAAAAAAASIFAAAAAAADIjkAAAAAAAEiJQAAAAAAA2IdAAAAAAACAgkAAAAAAAOiAQAAAAAAAoItAAAAAAAAAhUAAAAAAAHCEQAAAAAAAyINAAAAAAAAgg0AAAAAAAHiGQAAAAAAA6IJAAAAAAAC4gUAAAAAAAIB/QAAAAAAAWIVAAAAAAABYgkAAAAAAADCCQAAAAAAA+IFAAAAAAAB4gEAAAAAAAICKQAAAAAAAyIhAAAAAAABohEAAAAAAAECEQAAAAAAAIIBAAAAAAADAjkAAAAAAAKiLQAAAAAAA8IFAAAAAAABIgUAAAAAAAMiOQAAAAAAASIlAAAAAAADYh0AAAAAAAICCQAAAAAAA6IBAAAAAAACgi0AAAAAAAACFQAAAAAAAcIRAAAAAAADIg0AAAAAAACCDQAAAAAAAeIZAAAAAAADogkAAAAAAALiBQAAAAAAAgH9AAAAAAABYhUAAAAAAAFiCQAAAAAAAMIJAAAAAAAD4gUAAAAAAAHiAQAAAAAAABKtAAAAAAAA0nUAAAAAAAJyRQAAAAAAA1KxAAAAAAAD+qkAAAAAAALCUQAAAAAAAvJBAAAAAAAAUp0AAAAAAAP64QAAAAAAAHbVAAAAAAADpu0A=",
          "dtype": "f8"
         }
        }
       ],
       "layout": {
        "annotations": [
         {
          "font": {
           "color": "gray",
           "family": "Arial",
           "size": 12
          },
          "showarrow": false,
          "text": "This sunburst shows top recipes by Continent (Innermost) → Cuisine → Recipe → Calories. <br> Further details like fat, carbs, protein, and avg_rating available on hover. <br>Note: This is not an exhaustive list of top recipes or cuisines, the ranking is based on multiple key indicators (num_recipes = variety, avg_rating = quality, total_ratings = popularity). <br> Data Source: 'www.allrecipes.com', brought by TidyTuesday 16-09-2025. Visualisation by Saumita Haldar",
          "x": 0.5,
          "xref": "paper",
          "y": -0.1,
          "yref": "paper"
         }
        ],
        "coloraxis": {
         "colorbar": {
          "title": {
           "text": "avg_rating"
          }
         },
         "colorscale": [
          [
           0,
           "rgb(255,255,229)"
          ],
          [
           0.125,
           "rgb(255,247,188)"
          ],
          [
           0.25,
           "rgb(254,227,145)"
          ],
          [
           0.375,
           "rgb(254,196,79)"
          ],
          [
           0.5,
           "rgb(254,153,41)"
          ],
          [
           0.625,
           "rgb(236,112,20)"
          ],
          [
           0.75,
           "rgb(204,76,2)"
          ],
          [
           0.875,
           "rgb(153,52,4)"
          ],
          [
           1,
           "rgb(102,37,6)"
          ]
         ]
        },
        "height": 950,
        "legend": {
         "tracegroupgap": 0
        },
        "template": {
         "data": {
          "bar": [
           {
            "error_x": {
             "color": "#2a3f5f"
            },
            "error_y": {
             "color": "#2a3f5f"
            },
            "marker": {
             "line": {
              "color": "#E5ECF6",
              "width": 0.5
             },
             "pattern": {
              "fillmode": "overlay",
              "size": 10,
              "solidity": 0.2
             }
            },
            "type": "bar"
           }
          ],
          "barpolar": [
           {
            "marker": {
             "line": {
              "color": "#E5ECF6",
              "width": 0.5
             },
             "pattern": {
              "fillmode": "overlay",
              "size": 10,
              "solidity": 0.2
             }
            },
            "type": "barpolar"
           }
          ],
          "carpet": [
           {
            "aaxis": {
             "endlinecolor": "#2a3f5f",
             "gridcolor": "white",
             "linecolor": "white",
             "minorgridcolor": "white",
             "startlinecolor": "#2a3f5f"
            },
            "baxis": {
             "endlinecolor": "#2a3f5f",
             "gridcolor": "white",
             "linecolor": "white",
             "minorgridcolor": "white",
             "startlinecolor": "#2a3f5f"
            },
            "type": "carpet"
           }
          ],
          "choropleth": [
           {
            "colorbar": {
             "outlinewidth": 0,
             "ticks": ""
            },
            "type": "choropleth"
           }
          ],
          "contour": [
           {
            "colorbar": {
             "outlinewidth": 0,
             "ticks": ""
            },
            "colorscale": [
             [
              0,
              "#0d0887"
             ],
             [
              0.1111111111111111,
              "#46039f"
             ],
             [
              0.2222222222222222,
              "#7201a8"
             ],
             [
              0.3333333333333333,
              "#9c179e"
             ],
             [
              0.4444444444444444,
              "#bd3786"
             ],
             [
              0.5555555555555556,
              "#d8576b"
             ],
             [
              0.6666666666666666,
              "#ed7953"
             ],
             [
              0.7777777777777778,
              "#fb9f3a"
             ],
             [
              0.8888888888888888,
              "#fdca26"
             ],
             [
              1,
              "#f0f921"
             ]
            ],
            "type": "contour"
           }
          ],
          "contourcarpet": [
           {
            "colorbar": {
             "outlinewidth": 0,
             "ticks": ""
            },
            "type": "contourcarpet"
           }
          ],
          "heatmap": [
           {
            "colorbar": {
             "outlinewidth": 0,
             "ticks": ""
            },
            "colorscale": [
             [
              0,
              "#0d0887"
             ],
             [
              0.1111111111111111,
              "#46039f"
             ],
             [
              0.2222222222222222,
              "#7201a8"
             ],
             [
              0.3333333333333333,
              "#9c179e"
             ],
             [
              0.4444444444444444,
              "#bd3786"
             ],
             [
              0.5555555555555556,
              "#d8576b"
             ],
             [
              0.6666666666666666,
              "#ed7953"
             ],
             [
              0.7777777777777778,
              "#fb9f3a"
             ],
             [
              0.8888888888888888,
              "#fdca26"
             ],
             [
              1,
              "#f0f921"
             ]
            ],
            "type": "heatmap"
           }
          ],
          "histogram": [
           {
            "marker": {
             "pattern": {
              "fillmode": "overlay",
              "size": 10,
              "solidity": 0.2
             }
            },
            "type": "histogram"
           }
          ],
          "histogram2d": [
           {
            "colorbar": {
             "outlinewidth": 0,
             "ticks": ""
            },
            "colorscale": [
             [
              0,
              "#0d0887"
             ],
             [
              0.1111111111111111,
              "#46039f"
             ],
             [
              0.2222222222222222,
              "#7201a8"
             ],
             [
              0.3333333333333333,
              "#9c179e"
             ],
             [
              0.4444444444444444,
              "#bd3786"
             ],
             [
              0.5555555555555556,
              "#d8576b"
             ],
             [
              0.6666666666666666,
              "#ed7953"
             ],
             [
              0.7777777777777778,
              "#fb9f3a"
             ],
             [
              0.8888888888888888,
              "#fdca26"
             ],
             [
              1,
              "#f0f921"
             ]
            ],
            "type": "histogram2d"
           }
          ],
          "histogram2dcontour": [
           {
            "colorbar": {
             "outlinewidth": 0,
             "ticks": ""
            },
            "colorscale": [
             [
              0,
              "#0d0887"
             ],
             [
              0.1111111111111111,
              "#46039f"
             ],
             [
              0.2222222222222222,
              "#7201a8"
             ],
             [
              0.3333333333333333,
              "#9c179e"
             ],
             [
              0.4444444444444444,
              "#bd3786"
             ],
             [
              0.5555555555555556,
              "#d8576b"
             ],
             [
              0.6666666666666666,
              "#ed7953"
             ],
             [
              0.7777777777777778,
              "#fb9f3a"
             ],
             [
              0.8888888888888888,
              "#fdca26"
             ],
             [
              1,
              "#f0f921"
             ]
            ],
            "type": "histogram2dcontour"
           }
          ],
          "mesh3d": [
           {
            "colorbar": {
             "outlinewidth": 0,
             "ticks": ""
            },
            "type": "mesh3d"
           }
          ],
          "parcoords": [
           {
            "line": {
             "colorbar": {
              "outlinewidth": 0,
              "ticks": ""
             }
            },
            "type": "parcoords"
           }
          ],
          "pie": [
           {
            "automargin": true,
            "type": "pie"
           }
          ],
          "scatter": [
           {
            "fillpattern": {
             "fillmode": "overlay",
             "size": 10,
             "solidity": 0.2
            },
            "type": "scatter"
           }
          ],
          "scatter3d": [
           {
            "line": {
             "colorbar": {
              "outlinewidth": 0,
              "ticks": ""
             }
            },
            "marker": {
             "colorbar": {
              "outlinewidth": 0,
              "ticks": ""
             }
            },
            "type": "scatter3d"
           }
          ],
          "scattercarpet": [
           {
            "marker": {
             "colorbar": {
              "outlinewidth": 0,
              "ticks": ""
             }
            },
            "type": "scattercarpet"
           }
          ],
          "scattergeo": [
           {
            "marker": {
             "colorbar": {
              "outlinewidth": 0,
              "ticks": ""
             }
            },
            "type": "scattergeo"
           }
          ],
          "scattergl": [
           {
            "marker": {
             "colorbar": {
              "outlinewidth": 0,
              "ticks": ""
             }
            },
            "type": "scattergl"
           }
          ],
          "scattermap": [
           {
            "marker": {
             "colorbar": {
              "outlinewidth": 0,
              "ticks": ""
             }
            },
            "type": "scattermap"
           }
          ],
          "scattermapbox": [
           {
            "marker": {
             "colorbar": {
              "outlinewidth": 0,
              "ticks": ""
             }
            },
            "type": "scattermapbox"
           }
          ],
          "scatterpolar": [
           {
            "marker": {
             "colorbar": {
              "outlinewidth": 0,
              "ticks": ""
             }
            },
            "type": "scatterpolar"
           }
          ],
          "scatterpolargl": [
           {
            "marker": {
             "colorbar": {
              "outlinewidth": 0,
              "ticks": ""
             }
            },
            "type": "scatterpolargl"
           }
          ],
          "scatterternary": [
           {
            "marker": {
             "colorbar": {
              "outlinewidth": 0,
              "ticks": ""
             }
            },
            "type": "scatterternary"
           }
          ],
          "surface": [
           {
            "colorbar": {
             "outlinewidth": 0,
             "ticks": ""
            },
            "colorscale": [
             [
              0,
              "#0d0887"
             ],
             [
              0.1111111111111111,
              "#46039f"
             ],
             [
              0.2222222222222222,
              "#7201a8"
             ],
             [
              0.3333333333333333,
              "#9c179e"
             ],
             [
              0.4444444444444444,
              "#bd3786"
             ],
             [
              0.5555555555555556,
              "#d8576b"
             ],
             [
              0.6666666666666666,
              "#ed7953"
             ],
             [
              0.7777777777777778,
              "#fb9f3a"
             ],
             [
              0.8888888888888888,
              "#fdca26"
             ],
             [
              1,
              "#f0f921"
             ]
            ],
            "type": "surface"
           }
          ],
          "table": [
           {
            "cells": {
             "fill": {
              "color": "#EBF0F8"
             },
             "line": {
              "color": "white"
             }
            },
            "header": {
             "fill": {
              "color": "#C8D4E3"
             },
             "line": {
              "color": "white"
             }
            },
            "type": "table"
           }
          ]
         },
         "layout": {
          "annotationdefaults": {
           "arrowcolor": "#2a3f5f",
           "arrowhead": 0,
           "arrowwidth": 1
          },
          "autotypenumbers": "strict",
          "coloraxis": {
           "colorbar": {
            "outlinewidth": 0,
            "ticks": ""
           }
          },
          "colorscale": {
           "diverging": [
            [
             0,
             "#8e0152"
            ],
            [
             0.1,
             "#c51b7d"
            ],
            [
             0.2,
             "#de77ae"
            ],
            [
             0.3,
             "#f1b6da"
            ],
            [
             0.4,
             "#fde0ef"
            ],
            [
             0.5,
             "#f7f7f7"
            ],
            [
             0.6,
             "#e6f5d0"
            ],
            [
             0.7,
             "#b8e186"
            ],
            [
             0.8,
             "#7fbc41"
            ],
            [
             0.9,
             "#4d9221"
            ],
            [
             1,
             "#276419"
            ]
           ],
           "sequential": [
            [
             0,
             "#0d0887"
            ],
            [
             0.1111111111111111,
             "#46039f"
            ],
            [
             0.2222222222222222,
             "#7201a8"
            ],
            [
             0.3333333333333333,
             "#9c179e"
            ],
            [
             0.4444444444444444,
             "#bd3786"
            ],
            [
             0.5555555555555556,
             "#d8576b"
            ],
            [
             0.6666666666666666,
             "#ed7953"
            ],
            [
             0.7777777777777778,
             "#fb9f3a"
            ],
            [
             0.8888888888888888,
             "#fdca26"
            ],
            [
             1,
             "#f0f921"
            ]
           ],
           "sequentialminus": [
            [
             0,
             "#0d0887"
            ],
            [
             0.1111111111111111,
             "#46039f"
            ],
            [
             0.2222222222222222,
             "#7201a8"
            ],
            [
             0.3333333333333333,
             "#9c179e"
            ],
            [
             0.4444444444444444,
             "#bd3786"
            ],
            [
             0.5555555555555556,
             "#d8576b"
            ],
            [
             0.6666666666666666,
             "#ed7953"
            ],
            [
             0.7777777777777778,
             "#fb9f3a"
            ],
            [
             0.8888888888888888,
             "#fdca26"
            ],
            [
             1,
             "#f0f921"
            ]
           ]
          },
          "colorway": [
           "#636efa",
           "#EF553B",
           "#00cc96",
           "#ab63fa",
           "#FFA15A",
           "#19d3f3",
           "#FF6692",
           "#B6E880",
           "#FF97FF",
           "#FECB52"
          ],
          "font": {
           "color": "#2a3f5f"
          },
          "geo": {
           "bgcolor": "white",
           "lakecolor": "white",
           "landcolor": "#E5ECF6",
           "showlakes": true,
           "showland": true,
           "subunitcolor": "white"
          },
          "hoverlabel": {
           "align": "left"
          },
          "hovermode": "closest",
          "mapbox": {
           "style": "light"
          },
          "paper_bgcolor": "white",
          "plot_bgcolor": "#E5ECF6",
          "polar": {
           "angularaxis": {
            "gridcolor": "white",
            "linecolor": "white",
            "ticks": ""
           },
           "bgcolor": "#E5ECF6",
           "radialaxis": {
            "gridcolor": "white",
            "linecolor": "white",
            "ticks": ""
           }
          },
          "scene": {
           "xaxis": {
            "backgroundcolor": "#E5ECF6",
            "gridcolor": "white",
            "gridwidth": 2,
            "linecolor": "white",
            "showbackground": true,
            "ticks": "",
            "zerolinecolor": "white"
           },
           "yaxis": {
            "backgroundcolor": "#E5ECF6",
            "gridcolor": "white",
            "gridwidth": 2,
            "linecolor": "white",
            "showbackground": true,
            "ticks": "",
            "zerolinecolor": "white"
           },
           "zaxis": {
            "backgroundcolor": "#E5ECF6",
            "gridcolor": "white",
            "gridwidth": 2,
            "linecolor": "white",
            "showbackground": true,
            "ticks": "",
            "zerolinecolor": "white"
           }
          },
          "shapedefaults": {
           "line": {
            "color": "#2a3f5f"
           }
          },
          "ternary": {
           "aaxis": {
            "gridcolor": "white",
            "linecolor": "white",
            "ticks": ""
           },
           "baxis": {
            "gridcolor": "white",
            "linecolor": "white",
            "ticks": ""
           },
           "bgcolor": "#E5ECF6",
           "caxis": {
            "gridcolor": "white",
            "linecolor": "white",
            "ticks": ""
           }
          },
          "title": {
           "x": 0.05
          },
          "xaxis": {
           "automargin": true,
           "gridcolor": "white",
           "linecolor": "white",
           "ticks": "",
           "title": {
            "standoff": 15
           },
           "zerolinecolor": "white",
           "zerolinewidth": 2
          },
          "yaxis": {
           "automargin": true,
           "gridcolor": "white",
           "linecolor": "white",
           "ticks": "",
           "title": {
            "standoff": 15
           },
           "zerolinecolor": "white",
           "zerolinewidth": 2
          }
         }
        },
        "title": {
         "font": {
          "color": "maroon",
          "family": "Monotype Corsiva",
          "size": 30,
          "weight": "bold"
         },
         "text": "Most Popular Recipes within Selected Cuisines by Continent",
         "x": 0.5,
         "xanchor": "center",
         "yanchor": "top"
        },
        "width": 1050
       }
      }
     },
     "metadata": {},
     "output_type": "display_data"
    }
   ],
   "source": [
    "# Plot an interactive Sunburst chart with: \n",
    "# innermost layer: continent\n",
    "# next layer: country/region\n",
    "# 3rd layer: recipe name\n",
    "# outermost layer: calories in that recipe\n",
    "\n",
    "# Add a string 'cal' for calorie along with the numeric value of calories\n",
    "top_recipes_per_cuisine['calories_label'] = top_recipes_per_cuisine['calories'].astype(int).astype(str) + ' cal'\n",
    "\n",
    "# Build a Sunburst Chart\n",
    "fig = px.sunburst(\n",
    "    top_recipes_per_cuisine,\n",
    "    path=['continent', 'country', 'name', 'calories_label'],\n",
    "    values='total_ratings',\n",
    "    color='avg_rating',\n",
    "    color_continuous_scale='YlOrBr',\n",
    "    hover_data=['total_ratings','avg_rating', 'calories', 'fat', 'carbs', 'protein'],\n",
    "    title=\"Most Popular Recipes within Selected Cuisines by Continent\"\n",
    ")\n",
    "\n",
    "# Adjust layout specifications like size of chart (width, height), title, annotations \n",
    "fig.update_layout(width=1050, height=950, \n",
    "                  title=dict(\n",
    "                        text=\"Most Popular Recipes within Selected Cuisines by Continent\",\n",
    "                        x=0.5,            # center\n",
    "                        xanchor='center',\n",
    "                        yanchor='top',\n",
    "                        font=dict(size=30, family=\"Monotype Corsiva\", weight='bold', color=\"maroon\")\n",
    "                    ),\n",
    "                    annotations=[\n",
    "                        dict(\n",
    "                            text=\"This sunburst shows top recipes by Continent (Innermost) → Cuisine → Recipe → Calories. <br> \" \\\n",
    "                            \"Further details like fat, carbs, protein, and avg_rating available on hover. <br>\" \\\n",
    "                            \"Note: This is not an exhaustive list of top recipes or cuisines, the ranking is based on multiple key indicators (num_recipes = variety, avg_rating = quality, total_ratings = popularity). \"\n",
    "                            \"<br> Data Source: 'www.allrecipes.com', brought by TidyTuesday 16-09-2025. Visualisation by Saumita Haldar\",   # text to display\n",
    "                            x=0.5,                          # center horizontally\n",
    "                            y=-0.1,                         # below the chart\n",
    "                            showarrow=False,\n",
    "                            xref=\"paper\", yref=\"paper\",     # relative to entire figure\n",
    "                            font=dict(size=12, color=\"gray\", family=\"Arial\")\n",
    "                        )\n",
    "                    ])\n",
    "\n",
    "# Adjust font size within sunburst chart\n",
    "fig.update_traces(textfont_size=20)\n",
    "\n",
    "# Display the chart\n",
    "fig.show()\n",
    "\n",
    "# Save the chart as an html file to make it shareable as an interactive plot\n",
    "fig.write_html(\"top_recipes_sunburst.html\", include_plotlyjs='cdn', full_html=True)\n"
   ]
  }
 ],
 "metadata": {
  "kernelspec": {
   "display_name": "Python 3",
   "language": "python",
   "name": "python3"
  },
  "language_info": {
   "codemirror_mode": {
    "name": "ipython",
    "version": 3
   },
   "file_extension": ".py",
   "mimetype": "text/x-python",
   "name": "python",
   "nbconvert_exporter": "python",
   "pygments_lexer": "ipython3",
   "version": "3.12.3"
  }
 },
 "nbformat": 4,
 "nbformat_minor": 5
}
