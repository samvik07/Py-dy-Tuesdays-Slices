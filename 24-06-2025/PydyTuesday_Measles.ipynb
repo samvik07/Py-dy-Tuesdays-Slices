{
 "cells": [
  {
   "cell_type": "markdown",
   "id": "a631b685",
   "metadata": {},
   "source": [
    "# Pydy Tuesday 24-06-2025 - Measles data"
   ]
  },
  {
   "cell_type": "markdown",
   "id": "69020368",
   "metadata": {},
   "source": [
    "### 1. Import Libraries"
   ]
  },
  {
   "cell_type": "code",
   "execution_count": 61,
   "id": "e9ba5de5",
   "metadata": {},
   "outputs": [],
   "source": [
    "import sys\n",
    "import pydytuesday\n",
    "import pandas as pd\n",
    "import numpy as np\n",
    "\n",
    "# For Data Visualisation\n",
    "import matplotlib\n",
    "import matplotlib.pyplot as plt\n",
    "import seaborn as sns\n",
    "import matplotlib.cm as cm\n",
    "import plotly\n",
    "import plotly.graph_objects as go\n"
   ]
  },
  {
   "cell_type": "code",
   "execution_count": 62,
   "id": "be159b4a",
   "metadata": {},
   "outputs": [
    {
     "name": "stdout",
     "output_type": "stream",
     "text": [
      "Python: 3.12.3 (tags/v3.12.3:f6650f9, Apr  9 2024, 14:05:25) [MSC v.1938 64 bit (AMD64)]\n",
      "pandas: 2.3.0\n",
      "numpy: 1.26.4\n",
      "matplotlib: 3.6.2\n",
      "seaborn: 0.13.2\n",
      "plotly: 6.1.2\n"
     ]
    }
   ],
   "source": [
    "# See version specifications of packages used (for reproducibility)\n",
    "print(\"Python:\", sys.version)\n",
    "print(\"pandas:\", pd.__version__)\n",
    "print(\"numpy:\", np.__version__)\n",
    "print(\"matplotlib:\", matplotlib.__version__)\n",
    "print(\"seaborn:\", sns.__version__)\n",
    "print(\"plotly:\", plotly.__version__)"
   ]
  },
  {
   "cell_type": "markdown",
   "id": "3ff41dab",
   "metadata": {},
   "source": [
    "### 2. Load data from the official tidytuesday repo"
   ]
  },
  {
   "cell_type": "code",
   "execution_count": 3,
   "id": "8d89497b",
   "metadata": {},
   "outputs": [
    {
     "name": "stdout",
     "output_type": "stream",
     "text": [
      "Trying to fetch README from: https://raw.githubusercontent.com/rfordatascience/tidytuesday/refs/heads/main/data/2025/2025-06-24/readme.md\n",
      "Successfully fetched README from: https://raw.githubusercontent.com/rfordatascience/tidytuesday/refs/heads/main/data/2025/2025-06-24/readme.md\n",
      "Downloading cases_month.csv...\n",
      "Successfully saved cases_month.csv to d:\\SAUVIK\\Projects\\Pydy_Tuesdays\\Pydy_24062025\\cases_month.csv\n",
      "Downloading cases_year.csv...\n",
      "Successfully saved cases_year.csv to d:\\SAUVIK\\Projects\\Pydy_Tuesdays\\Pydy_24062025\\cases_year.csv\n",
      "Downloading meta.yaml...\n",
      "Successfully saved meta.yaml to d:\\SAUVIK\\Projects\\Pydy_Tuesdays\\Pydy_24062025\\meta.yaml\n",
      "Downloading us_measles.png...\n",
      "Successfully saved us_measles.png to d:\\SAUVIK\\Projects\\Pydy_Tuesdays\\Pydy_24062025\\us_measles.png\n"
     ]
    }
   ],
   "source": [
    "# Use date to fetch the files for that week\n",
    "pydytuesday.get_date('2025-06-24')"
   ]
  },
  {
   "cell_type": "markdown",
   "id": "92e8c844",
   "metadata": {},
   "source": [
    "### 3. Load datasets into dataframe and perform initial exploration"
   ]
  },
  {
   "cell_type": "code",
   "execution_count": 4,
   "id": "3890fed6",
   "metadata": {},
   "outputs": [
    {
     "name": "stdout",
     "output_type": "stream",
     "text": [
      " cases_month Info: \n",
      "\n",
      "<class 'pandas.core.frame.DataFrame'>\n",
      "RangeIndex: 22780 entries, 0 to 22779\n",
      "Data columns (total 15 columns):\n",
      " #   Column                 Non-Null Count  Dtype  \n",
      "---  ------                 --------------  -----  \n",
      " 0   region                 22780 non-null  object \n",
      " 1   country                22780 non-null  object \n",
      " 2   iso3                   22780 non-null  object \n",
      " 3   year                   22780 non-null  int64  \n",
      " 4   month                  22780 non-null  int64  \n",
      " 5   measles_suspect        22632 non-null  float64\n",
      " 6   measles_clinical       22632 non-null  float64\n",
      " 7   measles_epi_linked     22632 non-null  float64\n",
      " 8   measles_lab_confirmed  22632 non-null  float64\n",
      " 9   measles_total          22632 non-null  float64\n",
      " 10  rubella_clinical       7811 non-null   float64\n",
      " 11  rubella_epi_linked     7811 non-null   float64\n",
      " 12  rubella_lab_confirmed  7811 non-null   float64\n",
      " 13  rubella_total          7811 non-null   float64\n",
      " 14  discarded              22632 non-null  float64\n",
      "dtypes: float64(10), int64(2), object(3)\n",
      "memory usage: 2.6+ MB\n",
      "None\n",
      "\n",
      "------------------------------------------------------------\n",
      "\n",
      " cases_year Info: \n",
      "\n",
      "<class 'pandas.core.frame.DataFrame'>\n",
      "RangeIndex: 2382 entries, 0 to 2381\n",
      "Data columns (total 19 columns):\n",
      " #   Column                                                           Non-Null Count  Dtype  \n",
      "---  ------                                                           --------------  -----  \n",
      " 0   region                                                           2382 non-null   object \n",
      " 1   country                                                          2380 non-null   object \n",
      " 2   iso3                                                             2382 non-null   object \n",
      " 3   year                                                             2382 non-null   int64  \n",
      " 4   total_population                                                 2382 non-null   int64  \n",
      " 5   annualized_population_most_recent_year_only                      2382 non-null   int64  \n",
      " 6   total_suspected_measles_rubella_cases                            2295 non-null   float64\n",
      " 7   measles_total                                                    2382 non-null   int64  \n",
      " 8   measles_lab_confirmed                                            2382 non-null   int64  \n",
      " 9   measles_epi_linked                                               2382 non-null   int64  \n",
      " 10  measles_clinical                                                 2382 non-null   int64  \n",
      " 11  measles_incidence_rate_per_1000000_total_population              2382 non-null   float64\n",
      " 12  rubella_total                                                    2382 non-null   int64  \n",
      " 13  rubella_lab_confirmed                                            2382 non-null   int64  \n",
      " 14  rubella_epi_linked                                               2382 non-null   int64  \n",
      " 15  rubella_clinical                                                 2382 non-null   int64  \n",
      " 16  rubella_incidence_rate_per_1000000_total_population              2382 non-null   float64\n",
      " 17  discarded_cases                                                  2295 non-null   float64\n",
      " 18  discarded_non_measles_rubella_cases_per_100000_total_population  1974 non-null   float64\n",
      "dtypes: float64(5), int64(11), object(3)\n",
      "memory usage: 353.7+ KB\n",
      "None\n",
      "\n",
      "------------------------------------------------------------\n",
      "\n"
     ]
    }
   ],
   "source": [
    "# Load datasets using Pandas \n",
    "cases_month = pd.read_csv('cases_month.csv')\n",
    "cases_year = pd.read_csv('cases_year.csv')\n",
    "\n",
    "# Store all the files in a dictionary\n",
    "datafiles = {\n",
    "    \"cases_month\": cases_month,\n",
    "    \"cases_year\": cases_year\n",
    "}\n",
    "\n",
    "# Print info for all the files\n",
    "for filename, df in datafiles.items():\n",
    "    print(f\" {filename} Info: \\n\")\n",
    "    print(df.info())\n",
    "    print(\"\\n\" + \"-\"*60 + \"\\n\")\n"
   ]
  },
  {
   "cell_type": "code",
   "execution_count": null,
   "id": "a7a1265f",
   "metadata": {},
   "outputs": [
    {
     "name": "stdout",
     "output_type": "stream",
     "text": [
      "               year         month  measles_suspect  measles_clinical  measles_epi_linked  measles_lab_confirmed  measles_total  rubella_clinical  rubella_epi_linked  rubella_lab_confirmed  rubella_total     discarded\n",
      "count  22780.000000  22780.000000     22632.000000      22632.000000        22632.000000           22632.000000   22632.000000       7811.000000         7811.000000            7811.000000    7811.000000  22632.000000\n",
      "mean    2018.253600      6.293547       235.265376         50.708687           38.939069              47.029251     136.677006         19.815901            4.344130              20.066317      44.226347    112.301653\n",
      "std        3.815709      3.461782      1203.690535        408.194314          748.287331             275.099951     969.226508        283.628969           60.004873             145.382545     335.242009    524.224152\n",
      "min     2012.000000      1.000000         0.000000       -204.000000            0.000000               0.000000    -195.000000          0.000000            0.000000               0.000000       0.000000      0.000000\n",
      "25%     2015.000000      3.000000         4.000000          0.000000            0.000000               0.000000       0.000000          0.000000            0.000000               1.000000       1.000000      1.000000\n",
      "50%     2018.000000      6.000000        23.000000          0.000000            0.000000               1.000000       2.000000          0.000000            0.000000               3.000000       4.000000     14.000000\n",
      "75%     2022.000000      9.000000       110.000000          2.000000            0.000000              14.000000      29.000000          0.000000            0.000000              11.000000      15.000000     60.000000\n",
      "max     2025.000000     12.000000     68051.000000      12730.000000        67728.000000            9936.000000   67929.000000      10856.000000         2476.000000            7039.000000   10856.000000  16443.000000\n",
      "\n",
      "   region  country iso3  year  month  measles_suspect  measles_clinical  measles_epi_linked  measles_lab_confirmed  measles_total  rubella_clinical  rubella_epi_linked  rubella_lab_confirmed  rubella_total  discarded\n",
      "0    AFR  Algeria  DZA  2012      1              8.0               6.0                 0.0                    2.0            8.0               NaN                 NaN                    NaN            NaN        0.0\n",
      "1    AFR  Algeria  DZA  2012      2             10.0              10.0                 0.0                    0.0           10.0               NaN                 NaN                    NaN            NaN        0.0\n",
      "2    AFR  Algeria  DZA  2012      3             17.0              17.0                 0.0                    0.0           17.0               NaN                 NaN                    NaN            NaN        0.0\n",
      "3    AFR  Algeria  DZA  2012      4              7.0               5.0                 0.0                    0.0            5.0               0.0                 0.0                    1.0            1.0        2.0\n",
      "4    AFR  Algeria  DZA  2012      5             14.0              11.0                 0.0                    0.0           11.0               0.0                 0.0                    3.0            3.0        3.0\n"
     ]
    }
   ],
   "source": [
    "# Set display width so that the details appear in a single line\n",
    "pd.set_option('display.width', 1000)\n",
    "\n",
    "# See some statistical info and sample records of cases_month dataframe\n",
    "print(cases_month.describe())\n",
    "print(\"\\n\",cases_month.head())"
   ]
  },
  {
   "cell_type": "code",
   "execution_count": null,
   "id": "0e85ad78",
   "metadata": {},
   "outputs": [
    {
     "name": "stdout",
     "output_type": "stream",
     "text": [
      "              year  total_population  annualized_population_most_recent_year_only  total_suspected_measles_rubella_cases  measles_total  measles_lab_confirmed  measles_epi_linked  measles_clinical  measles_incidence_rate_per_1000000_total_population  rubella_total  rubella_lab_confirmed  rubella_epi_linked  rubella_clinical  rubella_incidence_rate_per_1000000_total_population  discarded_cases  discarded_non_measles_rubella_cases_per_100000_total_population\n",
      "count  2382.000000      2.382000e+03                                 2.382000e+03                            2295.000000    2382.000000            2382.000000         2382.000000       2382.000000                                        2382.000000      2382.000000            2382.000000         2382.000000       2382.000000                                        2382.000000        2295.000000                                        1974.000000              \n",
      "mean   2018.631402      4.269838e+07                                 4.074782e+07                            2320.054902    1298.603694             446.837112          369.970193        481.796390                                          50.239647       145.026029              65.801008           14.245172         64.979849                                           2.773686         931.385185                                           3.928891              \n",
      "std       3.958222      1.506527e+08                                 1.456164e+08                            9804.645339    6956.683725            2233.476981         4680.075059       3426.166496                                         333.879567      1475.651770             630.901888          209.611796       1256.506826                                          23.343125        4476.014057                                           7.098871              \n",
      "min    2012.000000      1.757000e+03                                 7.590000e+02                               0.000000       0.000000               0.000000            0.000000          0.000000                                           0.000000         0.000000               0.000000            0.000000          0.000000                                           0.000000      -38585.000000                                          -0.610000              \n",
      "25%    2015.000000      2.881909e+06                                 2.797780e+06                              30.000000       0.000000               0.000000            0.000000          0.000000                                           0.000000         0.000000               0.000000            0.000000          0.000000                                           0.000000           4.000000                                           0.580000              \n",
      "50%    2019.000000      1.011506e+07                                 9.620074e+06                             235.000000      21.000000              13.000000            0.000000          0.000000                                           2.460000         0.000000               0.000000            0.000000          0.000000                                           0.000000         116.000000                                           1.840000              \n",
      "75%    2022.000000      3.168653e+07                                 3.021081e+07                            1155.500000     324.250000             165.750000            4.000000         24.000000                                          18.467500        16.000000              12.000000            0.000000          0.000000                                           1.090000         514.000000                                           4.157500              \n",
      "max    2025.000000      1.463866e+09                                 1.450936e+09                          214157.000000  213291.000000           47983.000000       212214.000000      61255.000000                                        9439.260000     40362.000000           25827.000000         6406.000000      40362.000000                                        1008.510000       88875.000000                                          76.130000              \n",
      "\n",
      "   region  country iso3  year  total_population  annualized_population_most_recent_year_only  total_suspected_measles_rubella_cases  measles_total  measles_lab_confirmed  measles_epi_linked  measles_clinical  measles_incidence_rate_per_1000000_total_population  rubella_total  rubella_lab_confirmed  rubella_epi_linked  rubella_clinical  rubella_incidence_rate_per_1000000_total_population  discarded_cases  discarded_non_measles_rubella_cases_per_100000_total_population\n",
      "0   AFRO  Algeria  DZA  2012          37646166                                     37646166                                   76.0             55                      2                   0                53                                               1.46               13                     13                   0                 0                                               0.35                8.0                                               0.02              \n",
      "1   AFRO  Algeria  DZA  2013          38414172                                     38414172                                   85.0              0                      0                   0                 0                                               0.00               29                     29                   0                 0                                               0.75               56.0                                               0.15              \n",
      "2   AFRO  Algeria  DZA  2014          39205031                                     39205031                                   49.0              0                      0                   0                 0                                               0.00                3                      3                   0                 0                                               0.08               46.0                                               0.12              \n",
      "3   AFRO  Algeria  DZA  2015          40019529                                     40019529                                  109.0             62                      2                  60                 0                                               1.55                2                      2                   0                 0                                               0.05               45.0                                               0.11              \n",
      "4   AFRO  Algeria  DZA  2016          40850721                                     40850721                                   93.0             49                     21                  27                 1                                               1.20               11                     11                   0                 0                                               0.27               33.0                                               0.08              \n"
     ]
    }
   ],
   "source": [
    "# See some statistical info and sample records of cases_year dataframe\n",
    "print(cases_year.describe())\n",
    "print(\"\\n\",cases_year.head())"
   ]
  },
  {
   "cell_type": "markdown",
   "id": "b50333be",
   "metadata": {},
   "source": [
    "### 4.a. Visualise Measles case trends by Year"
   ]
  },
  {
   "cell_type": "code",
   "execution_count": null,
   "id": "b357f8cb",
   "metadata": {},
   "outputs": [
    {
     "data": {
      "text/plain": [
       "<AxesSubplot: title={'center': 'Measles Total vs Lab Confirmed Over Time'}, xlabel='year'>"
      ]
     },
     "execution_count": 9,
     "metadata": {},
     "output_type": "execute_result"
    },
    {
     "data": {
      "image/png": "[encoded data removed]",
      "text/plain": [
       "<Figure size 640x480 with 1 Axes>"
      ]
     },
     "metadata": {},
     "output_type": "display_data"
    }
   ],
   "source": [
    "# Visualise measles trend over time - total measles cases and how many of them were lab-confirmed cases\n",
    "cases_year.groupby(\"year\")[[\"measles_total\", \"measles_lab_confirmed\"]].sum().plot(title=\"Measles Total vs Lab Confirmed Over Time\")"
   ]
  },
  {
   "cell_type": "markdown",
   "id": "1185fc63",
   "metadata": {},
   "source": [
    "Observations:  \n",
    "- Measles cases globally spiked between 2018 and 2020.\n",
    "- There is a significant different between the number of total cases and lab-confirmed cases."
   ]
  },
  {
   "cell_type": "markdown",
   "id": "6a423f13",
   "metadata": {},
   "source": [
    "### 4.b. Measles case trends over years: Case classification-wise"
   ]
  },
  {
   "cell_type": "markdown",
   "id": "883a2bbd",
   "metadata": {},
   "source": [
    "Case incidents are classified in the following 3 categories:\n",
    "- Lab-confirmed : Verified through lab testing\n",
    "- Epi-linked    : Epidemiologically connected to a confirmed case\n",
    "- Clinical      : Based on symptoms (no lab or epidemiological link)"
   ]
  },
  {
   "cell_type": "code",
   "execution_count": null,
   "id": "4b4d1ec8",
   "metadata": {},
   "outputs": [
    {
     "data": {
      "text/plain": [
       "<AxesSubplot: title={'center': 'Year-wise Composition of Measles Cases'}, xlabel='year'>"
      ]
     },
     "execution_count": 10,
     "metadata": {},
     "output_type": "execute_result"
    },
    {
     "data": {
      "image/png": "[encoded data removed]",
      "text/plain": [
       "<Figure size 1200x600 with 1 Axes>"
      ]
     },
     "metadata": {},
     "output_type": "display_data"
    }
   ],
   "source": [
    "# Group measles case trends by case classification, over years\n",
    "yearly_components = cases_year.groupby(\"year\")[[\"measles_lab_confirmed\", \"measles_epi_linked\", \"measles_clinical\"]].sum()\n",
    "\n",
    "# Plot\n",
    "yearly_components.plot(\n",
    "    kind=\"bar\",\n",
    "    stacked=True,\n",
    "    figsize=(12, 6),\n",
    "    title=\"Year-wise Composition of Measles Cases\"\n",
    ")\n"
   ]
  },
  {
   "cell_type": "markdown",
   "id": "cfa22a6f",
   "metadata": {},
   "source": [
    "Observations:\n",
    "- Global measles cases spiked in the year 2019, with the most number of cases being classified as epidemiologically-linked.\n",
    "- Global cases are on rise since 2021.\n",
    "- The proportion of lab-confirmed cases seem to have inmproved, indicating better healthcare or disease surveillance systems globally."
   ]
  },
  {
   "cell_type": "markdown",
   "id": "eb5fc216",
   "metadata": {},
   "source": [
    "### 4.c. Measles cases over years: Region-wise"
   ]
  },
  {
   "cell_type": "markdown",
   "id": "452d4753",
   "metadata": {},
   "source": [
    "Data spans 6 WHO regions: AFRO (African), AMRO (American), EURO (European), EMRO (Eastern Mediterranean), SEARO (South-East Asian), and WPRO (Western Pacific)"
   ]
  },
  {
   "cell_type": "code",
   "execution_count": null,
   "id": "3dd2a24f",
   "metadata": {},
   "outputs": [
    {
     "data": {
      "image/png": "[encoded data removed]",
      "text/plain": [
       "<Figure size 1400x600 with 1 Axes>"
      ]
     },
     "metadata": {},
     "output_type": "display_data"
    }
   ],
   "source": [
    "# Group by year and region, sum total measles cases\n",
    "year_region = cases_year.groupby([\"year\", \"region\"])[\"measles_total\"].sum().unstack(fill_value=0)\n",
    "\n",
    "num_regions = year_region.shape[1]\n",
    "colors = cm.Set2(np.linspace(0, 1, num_regions))\n",
    "\n",
    "# Plot as stacked bar\n",
    "year_region.plot(\n",
    "    kind=\"bar\",\n",
    "    stacked=True,\n",
    "    figsize=(14, 6),\n",
    "    title=\"Year-wise Total Measles Cases by Region\",\n",
    "    color=colors\n",
    ")\n",
    "\n",
    "# Set Plot sepcifications\n",
    "plt.ylabel(\"Total Measles Cases\", size=15)\n",
    "plt.xlabel(\"Year\", size=15)\n",
    "plt.xticks(size=15)\n",
    "plt.yticks(size=15)\n",
    "plt.legend(title=\"Region\", loc=\"upper left\")\n",
    "plt.tight_layout()\n",
    "\n",
    "# Display plot\n",
    "plt.show()"
   ]
  },
  {
   "cell_type": "markdown",
   "id": "eac0dda2",
   "metadata": {},
   "source": [
    "Observations: \n",
    "- African region (AFRO) has been the most affected in year 2019 which saw the highest number of cases between 2012 and mid-2025.\n",
    "- Regions like EMRO, EURO, and SEARO have seen significant case surge in recent years.\n",
    "- Western Pacific region (WPRO) has reported significantly reduced cases.\n",
    "- American region (AMRO) shows the lowest or negligible cases throughout."
   ]
  },
  {
   "cell_type": "markdown",
   "id": "002f6467",
   "metadata": {},
   "source": [
    "#### 4.d. Region-wise composition of measles cases"
   ]
  },
  {
   "cell_type": "code",
   "execution_count": 12,
   "id": "cf8b860c",
   "metadata": {},
   "outputs": [
    {
     "data": {
      "text/plain": [
       "<AxesSubplot: title={'center': 'Region-wise Composition of Measles Cases'}, xlabel='region'>"
      ]
     },
     "execution_count": 12,
     "metadata": {},
     "output_type": "execute_result"
    },
    {
     "data": {
      "image/png": "[encoded data removed]",
      "text/plain": [
       "<Figure size 1200x600 with 1 Axes>"
      ]
     },
     "metadata": {},
     "output_type": "display_data"
    }
   ],
   "source": [
    "# Group by region and sum the components\n",
    "region_components = cases_year.groupby(\"region\")[[\"measles_lab_confirmed\", \"measles_epi_linked\", \"measles_clinical\"]].sum()\n",
    "\n",
    "# Plot\n",
    "region_components.plot(\n",
    "    kind=\"bar\",\n",
    "    stacked=True,\n",
    "    figsize=(12, 6),\n",
    "    title=\"Region-wise Composition of Measles Cases\"\n",
    ")\n"
   ]
  },
  {
   "cell_type": "markdown",
   "id": "074947d8",
   "metadata": {},
   "source": [
    "Observations:\n",
    "- African region (AFRO) has reported a high-proportion of epi-linked cases.\n",
    "- American region (AMRO) has reported only lab-confirmed cases, which could be indicative of better healthcare surveillance systems (provided there is no missing data for other case classifications).\n",
    "- EMRO, EURO, SEARO, and WPRO regions have significant proportions of both lab-confirmed and clinical cases, with SEARO region having a significant proportion of epi-linked cases as well."
   ]
  },
  {
   "cell_type": "markdown",
   "id": "b02767dc",
   "metadata": {},
   "source": [
    "#### 4.e. Measles case composition across Regions over Years"
   ]
  },
  {
   "cell_type": "markdown",
   "id": "35936874",
   "metadata": {},
   "source": [
    "As there is a lot information when we see case compositions across each region over the years, an interactive plot using Plotly has been employed for better visualisation and interpretation of the results."
   ]
  },
  {
   "cell_type": "code",
   "execution_count": null,
   "id": "409b4941",
   "metadata": {},
   "outputs": [
    {
     "data": {
      "application/vnd.plotly.v1+json": {
       "config": {
        "plotlyServerURL": "https://plot.ly"
       },
       "data": [
        {
         "marker": {
          "color": "steelblue"
         },
         "name": "Lab Confirmed",
         "type": "bar",
         "x": {
          "bdata": "3AfdB94H3wfgB+EH4gfjB+QH5QfmB+cH6AfpBw==",
          "dtype": "i2"
         },
         "y": {
          "bdata": "CCJwKDcgJRu/FocTPBtiPdYtHSe1SlVWAEiKHw==",
          "dtype": "i2"
         }
        },
        {
         "marker": {
          "color": "#d77850"
         },
         "name": "Epi Linked",
         "type": "bar",
         "x": {
          "bdata": "3AfdB94H3wfgB+EH4gfjB+QH5QfmB+cH6AfpBw==",
          "dtype": "i2"
         },
         "y": {
          "bdata": "uiUAAN7MAACiUwAACVkAAG5CAACEIgAAdk0AABjUAwABVwAADxYAAENrAABzpAAAY8oAACIbAAA=",
          "dtype": "i4"
         }
        },
        {
         "marker": {
          "color": "#43D2AF"
         },
         "name": "Clinical",
         "type": "bar",
         "x": {
          "bdata": "3AfdB94H3wfgB+EH4gfjB+QH5QfmB+cH6AfpBw==",
          "dtype": "i2"
         },
         "y": {
          "bdata": "FRnDN/Qz6T9kNgIrBTxsWsQxUCqiRxskDD7kDg==",
          "dtype": "i2"
         }
        }
       ],
       "layout": {
        "barmode": "stack",
        "height": 500,
        "legend": {
         "title": {
          "text": "Case Type"
         }
        },
        "template": {
         "data": {
          "bar": [
           {
            "error_x": {
             "color": "#2a3f5f"
            },
            "error_y": {
             "color": "#2a3f5f"
            },
            "marker": {
             "line": {
              "color": "#E5ECF6",
              "width": 0.5
             },
             "pattern": {
              "fillmode": "overlay",
              "size": 10,
              "solidity": 0.2
             }
            },
            "type": "bar"
           }
          ],
          "barpolar": [
           {
            "marker": {
             "line": {
              "color": "#E5ECF6",
              "width": 0.5
             },
             "pattern": {
              "fillmode": "overlay",
              "size": 10,
              "solidity": 0.2
             }
            },
            "type": "barpolar"
           }
          ],
          "carpet": [
           {
            "aaxis": {
             "endlinecolor": "#2a3f5f",
             "gridcolor": "white",
             "linecolor": "white",
             "minorgridcolor": "white",
             "startlinecolor": "#2a3f5f"
            },
            "baxis": {
             "endlinecolor": "#2a3f5f",
             "gridcolor": "white",
             "linecolor": "white",
             "minorgridcolor": "white",
             "startlinecolor": "#2a3f5f"
            },
            "type": "carpet"
           }
          ],
          "choropleth": [
           {
            "colorbar": {
             "outlinewidth": 0,
             "ticks": ""
            },
            "type": "choropleth"
           }
          ],
          "contour": [
           {
            "colorbar": {
             "outlinewidth": 0,
             "ticks": ""
            },
            "colorscale": [
             [
              0,
              "#0d0887"
             ],
             [
              0.1111111111111111,
              "#46039f"
             ],
             [
              0.2222222222222222,
              "#7201a8"
             ],
             [
              0.3333333333333333,
              "#9c179e"
             ],
             [
              0.4444444444444444,
              "#bd3786"
             ],
             [
              0.5555555555555556,
              "#d8576b"
             ],
             [
              0.6666666666666666,
              "#ed7953"
             ],
             [
              0.7777777777777778,
              "#fb9f3a"
             ],
             [
              0.8888888888888888,
              "#fdca26"
             ],
             [
              1,
              "#f0f921"
             ]
            ],
            "type": "contour"
           }
          ],
          "contourcarpet": [
           {
            "colorbar": {
             "outlinewidth": 0,
             "ticks": ""
            },
            "type": "contourcarpet"
           }
          ],
          "heatmap": [
           {
            "colorbar": {
             "outlinewidth": 0,
             "ticks": ""
            },
            "colorscale": [
             [
              0,
              "#0d0887"
             ],
             [
              0.1111111111111111,
              "#46039f"
             ],
             [
              0.2222222222222222,
              "#7201a8"
             ],
             [
              0.3333333333333333,
              "#9c179e"
             ],
             [
              0.4444444444444444,
              "#bd3786"
             ],
             [
              0.5555555555555556,
              "#d8576b"
             ],
             [
              0.6666666666666666,
              "#ed7953"
             ],
             [
              0.7777777777777778,
              "#fb9f3a"
             ],
             [
              0.8888888888888888,
              "#fdca26"
             ],
             [
              1,
              "#f0f921"
             ]
            ],
            "type": "heatmap"
           }
          ],
          "histogram": [
           {
            "marker": {
             "pattern": {
              "fillmode": "overlay",
              "size": 10,
              "solidity": 0.2
             }
            },
            "type": "histogram"
           }
          ],
          "histogram2d": [
           {
            "colorbar": {
             "outlinewidth": 0,
             "ticks": ""
            },
            "colorscale": [
             [
              0,
              "#0d0887"
             ],
             [
              0.1111111111111111,
              "#46039f"
             ],
             [
              0.2222222222222222,
              "#7201a8"
             ],
             [
              0.3333333333333333,
              "#9c179e"
             ],
             [
              0.4444444444444444,
              "#bd3786"
             ],
             [
              0.5555555555555556,
              "#d8576b"
             ],
             [
              0.6666666666666666,
              "#ed7953"
             ],
             [
              0.7777777777777778,
              "#fb9f3a"
             ],
             [
              0.8888888888888888,
              "#fdca26"
             ],
             [
              1,
              "#f0f921"
             ]
            ],
            "type": "histogram2d"
           }
          ],
          "histogram2dcontour": [
           {
            "colorbar": {
             "outlinewidth": 0,
             "ticks": ""
            },
            "colorscale": [
             [
              0,
              "#0d0887"
             ],
             [
              0.1111111111111111,
              "#46039f"
             ],
             [
              0.2222222222222222,
              "#7201a8"
             ],
             [
              0.3333333333333333,
              "#9c179e"
             ],
             [
              0.4444444444444444,
              "#bd3786"
             ],
             [
              0.5555555555555556,
              "#d8576b"
             ],
             [
              0.6666666666666666,
              "#ed7953"
             ],
             [
              0.7777777777777778,
              "#fb9f3a"
             ],
             [
              0.8888888888888888,
              "#fdca26"
             ],
             [
              1,
              "#f0f921"
             ]
            ],
            "type": "histogram2dcontour"
           }
          ],
          "mesh3d": [
           {
            "colorbar": {
             "outlinewidth": 0,
             "ticks": ""
            },
            "type": "mesh3d"
           }
          ],
          "parcoords": [
           {
            "line": {
             "colorbar": {
              "outlinewidth": 0,
              "ticks": ""
             }
            },
            "type": "parcoords"
           }
          ],
          "pie": [
           {
            "automargin": true,
            "type": "pie"
           }
          ],
          "scatter": [
           {
            "fillpattern": {
             "fillmode": "overlay",
             "size": 10,
             "solidity": 0.2
            },
            "type": "scatter"
           }
          ],
          "scatter3d": [
           {
            "line": {
             "colorbar": {
              "outlinewidth": 0,
              "ticks": ""
             }
            },
            "marker": {
             "colorbar": {
              "outlinewidth": 0,
              "ticks": ""
             }
            },
            "type": "scatter3d"
           }
          ],
          "scattercarpet": [
           {
            "marker": {
             "colorbar": {
              "outlinewidth": 0,
              "ticks": ""
             }
            },
            "type": "scattercarpet"
           }
          ],
          "scattergeo": [
           {
            "marker": {
             "colorbar": {
              "outlinewidth": 0,
              "ticks": ""
             }
            },
            "type": "scattergeo"
           }
          ],
          "scattergl": [
           {
            "marker": {
             "colorbar": {
              "outlinewidth": 0,
              "ticks": ""
             }
            },
            "type": "scattergl"
           }
          ],
          "scattermap": [
           {
            "marker": {
             "colorbar": {
              "outlinewidth": 0,
              "ticks": ""
             }
            },
            "type": "scattermap"
           }
          ],
          "scattermapbox": [
           {
            "marker": {
             "colorbar": {
              "outlinewidth": 0,
              "ticks": ""
             }
            },
            "type": "scattermapbox"
           }
          ],
          "scatterpolar": [
           {
            "marker": {
             "colorbar": {
              "outlinewidth": 0,
              "ticks": ""
             }
            },
            "type": "scatterpolar"
           }
          ],
          "scatterpolargl": [
           {
            "marker": {
             "colorbar": {
              "outlinewidth": 0,
              "ticks": ""
             }
            },
            "type": "scatterpolargl"
           }
          ],
          "scatterternary": [
           {
            "marker": {
             "colorbar": {
              "outlinewidth": 0,
              "ticks": ""
             }
            },
            "type": "scatterternary"
           }
          ],
          "surface": [
           {
            "colorbar": {
             "outlinewidth": 0,
             "ticks": ""
            },
            "colorscale": [
             [
              0,
              "#0d0887"
             ],
             [
              0.1111111111111111,
              "#46039f"
             ],
             [
              0.2222222222222222,
              "#7201a8"
             ],
             [
              0.3333333333333333,
              "#9c179e"
             ],
             [
              0.4444444444444444,
              "#bd3786"
             ],
             [
              0.5555555555555556,
              "#d8576b"
             ],
             [
              0.6666666666666666,
              "#ed7953"
             ],
             [
              0.7777777777777778,
              "#fb9f3a"
             ],
             [
              0.8888888888888888,
              "#fdca26"
             ],
             [
              1,
              "#f0f921"
             ]
            ],
            "type": "surface"
           }
          ],
          "table": [
           {
            "cells": {
             "fill": {
              "color": "#EBF0F8"
             },
             "line": {
              "color": "white"
             }
            },
            "header": {
             "fill": {
              "color": "#C8D4E3"
             },
             "line": {
              "color": "white"
             }
            },
            "type": "table"
           }
          ]
         },
         "layout": {
          "annotationdefaults": {
           "arrowcolor": "#2a3f5f",
           "arrowhead": 0,
           "arrowwidth": 1
          },
          "autotypenumbers": "strict",
          "coloraxis": {
           "colorbar": {
            "outlinewidth": 0,
            "ticks": ""
           }
          },
          "colorscale": {
           "diverging": [
            [
             0,
             "#8e0152"
            ],
            [
             0.1,
             "#c51b7d"
            ],
            [
             0.2,
             "#de77ae"
            ],
            [
             0.3,
             "#f1b6da"
            ],
            [
             0.4,
             "#fde0ef"
            ],
            [
             0.5,
             "#f7f7f7"
            ],
            [
             0.6,
             "#e6f5d0"
            ],
            [
             0.7,
             "#b8e186"
            ],
            [
             0.8,
             "#7fbc41"
            ],
            [
             0.9,
             "#4d9221"
            ],
            [
             1,
             "#276419"
            ]
           ],
           "sequential": [
            [
             0,
             "#0d0887"
            ],
            [
             0.1111111111111111,
             "#46039f"
            ],
            [
             0.2222222222222222,
             "#7201a8"
            ],
            [
             0.3333333333333333,
             "#9c179e"
            ],
            [
             0.4444444444444444,
             "#bd3786"
            ],
            [
             0.5555555555555556,
             "#d8576b"
            ],
            [
             0.6666666666666666,
             "#ed7953"
            ],
            [
             0.7777777777777778,
             "#fb9f3a"
            ],
            [
             0.8888888888888888,
             "#fdca26"
            ],
            [
             1,
             "#f0f921"
            ]
           ],
           "sequentialminus": [
            [
             0,
             "#0d0887"
            ],
            [
             0.1111111111111111,
             "#46039f"
            ],
            [
             0.2222222222222222,
             "#7201a8"
            ],
            [
             0.3333333333333333,
             "#9c179e"
            ],
            [
             0.4444444444444444,
             "#bd3786"
            ],
            [
             0.5555555555555556,
             "#d8576b"
            ],
            [
             0.6666666666666666,
             "#ed7953"
            ],
            [
             0.7777777777777778,
             "#fb9f3a"
            ],
            [
             0.8888888888888888,
             "#fdca26"
            ],
            [
             1,
             "#f0f921"
            ]
           ]
          },
          "colorway": [
           "#636efa",
           "#EF553B",
           "#00cc96",
           "#ab63fa",
           "#FFA15A",
           "#19d3f3",
           "#FF6692",
           "#B6E880",
           "#FF97FF",
           "#FECB52"
          ],
          "font": {
           "color": "#2a3f5f"
          },
          "geo": {
           "bgcolor": "white",
           "lakecolor": "white",
           "landcolor": "#E5ECF6",
           "showlakes": true,
           "showland": true,
           "subunitcolor": "white"
          },
          "hoverlabel": {
           "align": "left"
          },
          "hovermode": "closest",
          "mapbox": {
           "style": "light"
          },
          "paper_bgcolor": "white",
          "plot_bgcolor": "#E5ECF6",
          "polar": {
           "angularaxis": {
            "gridcolor": "white",
            "linecolor": "white",
            "ticks": ""
           },
           "bgcolor": "#E5ECF6",
           "radialaxis": {
            "gridcolor": "white",
            "linecolor": "white",
            "ticks": ""
           }
          },
          "scene": {
           "xaxis": {
            "backgroundcolor": "#E5ECF6",
            "gridcolor": "white",
            "gridwidth": 2,
            "linecolor": "white",
            "showbackground": true,
            "ticks": "",
            "zerolinecolor": "white"
           },
           "yaxis": {
            "backgroundcolor": "#E5ECF6",
            "gridcolor": "white",
            "gridwidth": 2,
            "linecolor": "white",
            "showbackground": true,
            "ticks": "",
            "zerolinecolor": "white"
           },
           "zaxis": {
            "backgroundcolor": "#E5ECF6",
            "gridcolor": "white",
            "gridwidth": 2,
            "linecolor": "white",
            "showbackground": true,
            "ticks": "",
            "zerolinecolor": "white"
           }
          },
          "shapedefaults": {
           "line": {
            "color": "#2a3f5f"
           }
          },
          "ternary": {
           "aaxis": {
            "gridcolor": "white",
            "linecolor": "white",
            "ticks": ""
           },
           "baxis": {
            "gridcolor": "white",
            "linecolor": "white",
            "ticks": ""
           },
           "bgcolor": "#E5ECF6",
           "caxis": {
            "gridcolor": "white",
            "linecolor": "white",
            "ticks": ""
           }
          },
          "title": {
           "x": 0.05
          },
          "xaxis": {
           "automargin": true,
           "gridcolor": "white",
           "linecolor": "white",
           "ticks": "",
           "title": {
            "standoff": 15
           },
           "zerolinecolor": "white",
           "zerolinewidth": 2
          },
          "yaxis": {
           "automargin": true,
           "gridcolor": "white",
           "linecolor": "white",
           "ticks": "",
           "title": {
            "standoff": 15
           },
           "zerolinecolor": "white",
           "zerolinewidth": 2
          }
         }
        },
        "title": {
         "text": "Measles Case Composition Over Years - AFRO - African Region (Sub-Saharan Africa)"
        },
        "updatemenus": [
         {
          "active": 0,
          "buttons": [
           {
            "args": [
             {
              "visible": [
               true,
               true,
               true
              ],
              "x": [
               [
                2012,
                2013,
                2014,
                2015,
                2016,
                2017,
                2018,
                2019,
                2020,
                2021,
                2022,
                2023,
                2024,
                2025
               ],
               [
                2012,
                2013,
                2014,
                2015,
                2016,
                2017,
                2018,
                2019,
                2020,
                2021,
                2022,
                2023,
                2024,
                2025
               ],
               [
                2012,
                2013,
                2014,
                2015,
                2016,
                2017,
                2018,
                2019,
                2020,
                2021,
                2022,
                2023,
                2024,
                2025
               ]
              ],
              "y": [
               [
                8712,
                10352,
                8247,
                6949,
                5823,
                4999,
                6972,
                15714,
                11734,
                10013,
                19125,
                22101,
                18432,
                8074
               ],
               [
                9658,
                52446,
                21410,
                22793,
                17006,
                8836,
                19830,
                250904,
                22273,
                5647,
                27459,
                42099,
                51811,
                6946
               ],
               [
                6421,
                14275,
                13300,
                16361,
                13924,
                11010,
                15365,
                23148,
                12740,
                10832,
                18338,
                9243,
                15884,
                3812
               ]
              ]
             },
             {
              "title": "Measles Case Composition Over Years - AFRO"
             }
            ],
            "label": "AFRO",
            "method": "update"
           },
           {
            "args": [
             {
              "visible": [
               true,
               true,
               true
              ],
              "x": [
               [
                2014,
                2015,
                2016,
                2017,
                2018,
                2019,
                2020,
                2021,
                2022,
                2023,
                2024,
                2025
               ],
               [
                2014,
                2015,
                2016,
                2017,
                2018,
                2019,
                2020,
                2021,
                2022,
                2023,
                2024,
                2025
               ],
               [
                2014,
                2015,
                2016,
                2017,
                2018,
                2019,
                2020,
                2021,
                2022,
                2023,
                2024,
                2025
               ]
              ],
              "y": [
               [
                1796,
                425,
                103,
                875,
                16791,
                23238,
                8688,
                712,
                169,
                73,
                408,
                4247
               ],
               [
                0,
                0,
                0,
                0,
                0,
                22,
                14,
                0,
                0,
                0,
                53,
                1092
               ],
               [
                0,
                0,
                0,
                1,
                0,
                19,
                6,
                0,
                0,
                0,
                0,
                1
               ]
              ]
             },
             {
              "title": "Measles Case Composition Over Years - AMRO"
             }
            ],
            "label": "AMRO",
            "method": "update"
           },
           {
            "args": [
             {
              "visible": [
               true,
               true,
               true
              ],
              "x": [
               [
                2012,
                2013,
                2014,
                2015,
                2016,
                2017,
                2018,
                2019,
                2020,
                2021,
                2022,
                2023,
                2024,
                2025
               ],
               [
                2012,
                2013,
                2014,
                2015,
                2016,
                2017,
                2018,
                2019,
                2020,
                2021,
                2022,
                2023,
                2024,
                2025
               ],
               [
                2012,
                2013,
                2014,
                2015,
                2016,
                2017,
                2018,
                2019,
                2020,
                2021,
                2022,
                2023,
                2024,
                2025
               ]
              ],
              "y": [
               [
                15090,
                13213,
                6232,
                8935,
                5216,
                10155,
                12647,
                8334,
                2749,
                11532,
                13942,
                29382,
                38238,
                13067
               ],
               [
                8351,
                2549,
                2141,
                4559,
                1026,
                692,
                16458,
                6195,
                326,
                475,
                4167,
                10635,
                6207,
                2377
               ],
               [
                1973,
                1293,
                1200,
                643,
                204,
                25285,
                38615,
                16174,
                6754,
                12322,
                39356,
                50838,
                52179,
                15608
               ]
              ]
             },
             {
              "title": "Measles Case Composition Over Years - EMRO"
             }
            ],
            "label": "EMRO",
            "method": "update"
           },
           {
            "args": [
             {
              "visible": [
               true,
               true,
               true
              ],
              "x": [
               [
                2012,
                2013,
                2014,
                2015,
                2016,
                2017,
                2018,
                2019,
                2020,
                2021,
                2022,
                2023,
                2024,
                2025
               ],
               [
                2012,
                2013,
                2014,
                2015,
                2016,
                2017,
                2018,
                2019,
                2020,
                2021,
                2022,
                2023,
                2024,
                2025
               ],
               [
                2012,
                2013,
                2014,
                2015,
                2016,
                2017,
                2018,
                2019,
                2020,
                2021,
                2022,
                2023,
                2024,
                2025
               ]
              ],
              "y": [
               [
                11776,
                18841,
                8044,
                7149,
                3526,
                14736,
                31930,
                37310,
                5926,
                110,
                770,
                41344,
                85467,
                11118
               ],
               [
                3497,
                4017,
                1178,
                1062,
                1239,
                6637,
                5357,
                8971,
                1684,
                1,
                61,
                10061,
                20134,
                3998
               ],
               [
                12384,
                9921,
                6848,
                20133,
                366,
                4439,
                51009,
                58161,
                4583,
                39,
                70,
                9539,
                21823,
                3435
               ]
              ]
             },
             {
              "title": "Measles Case Composition Over Years - EURO"
             }
            ],
            "label": "EURO",
            "method": "update"
           },
           {
            "args": [
             {
              "visible": [
               true,
               true,
               true
              ],
              "x": [
               [
                2012,
                2013,
                2014,
                2015,
                2016,
                2017,
                2018,
                2019,
                2020,
                2021,
                2022,
                2023,
                2024,
                2025
               ],
               [
                2012,
                2013,
                2014,
                2015,
                2016,
                2017,
                2018,
                2019,
                2020,
                2021,
                2022,
                2023,
                2024,
                2025
               ],
               [
                2012,
                2013,
                2014,
                2015,
                2016,
                2017,
                2018,
                2019,
                2020,
                2021,
                2022,
                2023,
                2024,
                2025
               ]
              ],
              "y": [
               [
                2702,
                2822,
                2966,
                2417,
                2223,
                5498,
                11712,
                17252,
                4888,
                2202,
                18387,
                47653,
                17632,
                4401
               ],
               [
                4687,
                2020,
                27808,
                21745,
                14160,
                14704,
                14809,
                6190,
                1807,
                510,
                22394,
                24234,
                6952,
                1785
               ],
               [
                16596,
                11962,
                62106,
                66279,
                57538,
                49242,
                4565,
                5697,
                3355,
                4028,
                8711,
                18945,
                12303,
                4670
               ]
              ]
             },
             {
              "title": "Measles Case Composition Over Years - SEARO"
             }
            ],
            "label": "SEARO",
            "method": "update"
           },
           {
            "args": [
             {
              "visible": [
               true,
               true,
               true
              ],
              "x": [
               [
                2012,
                2013,
                2014,
                2015,
                2016,
                2017,
                2018,
                2019,
                2020,
                2021,
                2022,
                2023,
                2024,
                2025
               ],
               [
                2012,
                2013,
                2014,
                2015,
                2016,
                2017,
                2018,
                2019,
                2020,
                2021,
                2022,
                2023,
                2024,
                2025
               ],
               [
                2012,
                2013,
                2014,
                2015,
                2016,
                2017,
                2018,
                2019,
                2020,
                2021,
                2022,
                2023,
                2024,
                2025
               ]
              ],
              "y": [
               [
                8639,
                31043,
                74154,
                44778,
                29273,
                7650,
                10087,
                16355,
                2914,
                643,
                750,
                3062,
                7564,
                3148
               ],
               [
                120,
                1257,
                13184,
                608,
                678,
                481,
                1823,
                3760,
                244,
                1,
                1,
                187,
                673,
                93
               ],
               [
                1942,
                2515,
                40274,
                22638,
                27710,
                2950,
                18187,
                43957,
                3155,
                552,
                640,
                2493,
                3774,
                981
               ]
              ]
             },
             {
              "title": "Measles Case Composition Over Years - WPRO"
             }
            ],
            "label": "WPRO",
            "method": "update"
           }
          ],
          "direction": "down",
          "x": 1.15,
          "y": 1.15
         }
        ],
        "xaxis": {
         "dtick": 1,
         "tick0": 2012,
         "tickmode": "linear",
         "title": {
          "text": "Year"
         }
        },
        "yaxis": {
         "title": {
          "text": "Number of Cases"
         }
        }
       }
      }
     },
     "metadata": {},
     "output_type": "display_data"
    }
   ],
   "source": [
    "# Group the data by region, year, and case composition\n",
    "grouped = cases_year.groupby([\"region\", \"year\"])[\n",
    "    [\"measles_lab_confirmed\", \"measles_epi_linked\", \"measles_clinical\"]].sum().reset_index()\n",
    "\n",
    "# Define regions and their full names for interpretation\n",
    "regions = grouped[\"region\"].unique()\n",
    "\n",
    "region_full_names = {\n",
    "    \"AFRO\": \"AFRO - African Region (Sub-Saharan Africa)\",\n",
    "    \"AMRO\": \"AMRO - Region of the Americas (North, Central & South America)\",\n",
    "    \"EMRO\": \"EMRO - Eastern Mediterranean Region (Middle East, North Africa, parts of South Asia)\",\n",
    "    \"EURO\": \"EURO - European Region (Europe and parts of Central Asia)\",\n",
    "    \"SEARO\": \"SEARO - South-East Asia Region (India, Indonesia, Thailand, etc.)\",\n",
    "    \"WPRO\": \"WPRO - Western Pacific Region (China, Australia, Japan, Philippines, etc.)\"\n",
    "}\n",
    "\n",
    "# Create one figure\n",
    "fig = go.Figure()\n",
    "\n",
    "# # Add traces for the first region only\n",
    "first_region = regions[0]\n",
    "df_r = grouped[grouped[\"region\"] == first_region]\n",
    "\n",
    "fig.add_trace(go.Bar(name=\"Lab Confirmed\", x=df_r[\"year\"], y=df_r[\"measles_lab_confirmed\"], marker_color=\"steelblue\"))\n",
    "fig.add_trace(go.Bar(name=\"Epi Linked\", x=df_r[\"year\"], y=df_r[\"measles_epi_linked\"], marker_color=\"#d77850\"))\n",
    "fig.add_trace(go.Bar(name=\"Clinical\", x=df_r[\"year\"], y=df_r[\"measles_clinical\"], marker_color=\"#43D2AF\"))\n",
    "\n",
    "# Make it stacked\n",
    "fig.update_layout(barmode=\"stack\")\n",
    "\n",
    "# Add dropdown buttons for each region\n",
    "dropdown_buttons = []\n",
    "\n",
    "# for region in regions:\n",
    "for i, region in enumerate(regions):\n",
    "    df_region = grouped[grouped[\"region\"] == region]\n",
    "    visibility = [False] * (3 * len(regions))  # 3 traces per region\n",
    "    i = list(regions).index(region)\n",
    "    visibility[i*3:i*3+3] = [True, True, True]\n",
    "\n",
    "    dropdown_buttons.append(dict(\n",
    "        label=region,\n",
    "        method=\"update\",\n",
    "        args=[{\"y\": [\n",
    "                    df_region[\"measles_lab_confirmed\"],\n",
    "                    df_region[\"measles_epi_linked\"],\n",
    "                    df_region[\"measles_clinical\"]\n",
    "                ],\n",
    "               \"x\": [df_region[\"year\"]] * 3,\n",
    "               \"visible\": [True] * 3\n",
    "              },\n",
    "              {\"title\": f\"Measles Case Composition Over Years - {region}\"}\n",
    "        ]\n",
    "    ))\n",
    "\n",
    "# Final layout update\n",
    "fig.update_layout(\n",
    "    updatemenus=[dict(\n",
    "        active=0,\n",
    "        buttons=dropdown_buttons,\n",
    "        direction=\"down\",\n",
    "        x=1.15,\n",
    "        y=1.15\n",
    "    )],\n",
    "    title=f\"Measles Case Composition Over Years - {region_full_names[first_region]}\",\n",
    "    xaxis_title=\"Year\",\n",
    "    yaxis_title=\"Number of Cases\",\n",
    "    legend_title=\"Case Type\",\n",
    "    height=500,\n",
    "    xaxis=dict(\n",
    "        tickmode='linear',\n",
    "        tick0=grouped[\"year\"].min(),\n",
    "        dtick=1\n",
    "    )\n",
    ")\n",
    "\n",
    "# Display the interactive plot\n",
    "fig.show()\n",
    "\n",
    "# Save the plot as an html file\n",
    "fig.write_html(\"measles_cases_region.html\")\n"
   ]
  },
  {
   "cell_type": "markdown",
   "id": "887abf7a",
   "metadata": {},
   "source": [
    "Observations:\n",
    "- African region shows a high proportion of epi-linked cases throughout and a low proportion of lab-confirmed cases, indicating need for improvements in their disease surveillance systems.\n",
    "- American region shows that almost all cases are lab-confirmed cases, with some epi-linked cases in 2025, suggesting that their healthcare surveillance system is better than that of all the other regions.\n",
    "- Eastern Mediterranean region shows a high proportion of clinical cases.\n",
    "- European and South-East Asian regions show an increase in the lab-confirmed cases in recent years, reflecting improvements in their healthcare surveillance systems."
   ]
  },
  {
   "cell_type": "markdown",
   "id": "adaea6ce",
   "metadata": {},
   "source": [
    "#### 4.e. Comparison of Total Measles Cases and Average Measles Incidence per 1 Million Population by Region"
   ]
  },
  {
   "cell_type": "code",
   "execution_count": 70,
   "id": "d67ac839",
   "metadata": {},
   "outputs": [
    {
     "data": {
      "image/png": "[encoded data removed]",
      "text/plain": [
       "<Figure size 1200x600 with 2 Axes>"
      ]
     },
     "metadata": {},
     "output_type": "display_data"
    }
   ],
   "source": [
    "# Prepare data\n",
    "total_cases = cases_year.groupby(\"region\")[\"measles_total\"].sum()\n",
    "avg_incidence = cases_year.groupby(\"region\")[\"measles_incidence_rate_per_1000000_total_population\"].mean()\n",
    "\n",
    "regions = total_cases.index \n",
    "x = range(len(regions))\n",
    "\n",
    "fig, ax1 = plt.subplots(figsize=(12, 6))\n",
    "\n",
    "# Bar for total cases\n",
    "bar1 = ax1.bar(x, total_cases, width=0.4, label=\"Total Cases\", align=\"center\", color=\"skyblue\")\n",
    "ax1.set_ylabel(\"Total Measles Cases\", color=\"skyblue\")\n",
    "ax1.set_xlabel(\"Region\")\n",
    "ax1.set_xticks(x)\n",
    "ax1.set_xticklabels(regions, rotation=45)\n",
    "\n",
    "# Twin axis for incidence\n",
    "ax2 = ax1.twinx()\n",
    "bar2 = ax2.bar([i + 0.4 for i in x], avg_incidence, width=0.4, label=\"Avg Incidence per 1M\", align=\"center\", color=\"salmon\")\n",
    "ax2.set_ylabel(\"Incidence per 1M\", color=\"salmon\")\n",
    "\n",
    "# Add title and legend\n",
    "plt.title(\"Total Measles Cases vs. Avg Incidence per 1M by Region\")\n",
    "fig.legend(loc=\"upper center\", bbox_to_anchor=(0.5, 1), bbox_transform=ax1.transAxes)\n",
    "\n",
    "plt.tight_layout()\n",
    "plt.show()"
   ]
  },
  {
   "cell_type": "markdown",
   "id": "9bc59395",
   "metadata": {},
   "source": [
    "Observations:\n",
    "- Western Pacific region showed a very low number of cases but the rate of infection per person is relatively higher as the population is smaller or more concentrated, particularly as compared to the African region which shows highest number of cases but it also has a very large population.\n",
    "- South-East Asian region also shows a relatively lower incidence per capita (per 1M population) in contrast to a high number of total cases."
   ]
  }
 ],
 "metadata": {
  "kernelspec": {
   "display_name": "Python 3",
   "language": "python",
   "name": "python3"
  },
  "language_info": {
   "codemirror_mode": {
    "name": "ipython",
    "version": 3
   },
   "file_extension": ".py",
   "mimetype": "text/x-python",
   "name": "python",
   "nbconvert_exporter": "python",
   "pygments_lexer": "ipython3",
   "version": "3.12.3"
  }
 },
 "nbformat": 4,
 "nbformat_minor": 5
}
